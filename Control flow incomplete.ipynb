{
 "cells": [
  {
   "cell_type": "raw",
   "id": "05c8ba02",
   "metadata": {},
   "source": [
    "---\n",
    "title: \"Control flow statements\"\n",
    "format: \n",
    "  html:\n",
    "    toc: true\n",
    "    code-fold: false\n",
    "jupyter: python3\n",
    "---"
   ]
  },
  {
   "cell_type": "markdown",
   "id": "dddeb5da",
   "metadata": {},
   "source": [
    "A [control flow statement](https://docs.python.org/3/tutorial/controlflow.html) in a computer program determines the individual lines of code to be executed and/or the order in which they will be executed. In this chapter, we'll learn about 3 types of control flow statements:\n",
    "\n",
    "1. if-elif-else\n",
    "\n",
    "2. `for` loop\n",
    "\n",
    "3. `while` loop"
   ]
  },
  {
   "cell_type": "markdown",
   "id": "249e63c4",
   "metadata": {},
   "source": [
    "## Conditonal execution"
   ]
  },
  {
   "cell_type": "markdown",
   "id": "e2167655",
   "metadata": {},
   "source": [
    "The first type of control flow satement is `if-elif-else`. This statement helps with conditional execution of code, i.e., the piece of code to be executed is selected based on certain condition(s)."
   ]
  },
  {
   "cell_type": "markdown",
   "id": "17996b15",
   "metadata": {},
   "source": [
    "### Comparison operators"
   ]
  },
  {
   "cell_type": "markdown",
   "id": "822cf733",
   "metadata": {},
   "source": [
    "For testing if conditions are true or false, first we need to learn the operators that can be used for comparison. For example, suppose we want to check if two objects are equal, we use the `==` operator:"
   ]
  },
  {
   "cell_type": "code",
   "execution_count": 6,
   "id": "1a06ec7f",
   "metadata": {},
   "outputs": [
    {
     "data": {
      "text/plain": [
       "False"
      ]
     },
     "execution_count": 6,
     "metadata": {},
     "output_type": "execute_result"
    }
   ],
   "source": [
    "5==6"
   ]
  },
  {
   "cell_type": "code",
   "execution_count": 7,
   "id": "acd1b355",
   "metadata": {},
   "outputs": [
    {
     "data": {
      "text/plain": [
       "True"
      ]
     },
     "execution_count": 7,
     "metadata": {},
     "output_type": "execute_result"
    }
   ],
   "source": [
    "x = \"hi\"\n",
    "y = \"hi\"\n",
    "x==y"
   ]
  },
  {
   "cell_type": "markdown",
   "id": "22cbf963",
   "metadata": {},
   "source": [
    "Below are the python comparison operators and their meanings."
   ]
  },
  {
   "cell_type": "markdown",
   "id": "3423e530",
   "metadata": {},
   "source": [
    "| Python code | Meaning |\n",
    "| --- | --- |\n",
    "| x==y | Produce True if ... x is equal to y |\n",
    "| x !=  y | ... x is not equal to y |\n",
    "| x > y | ... x is greater than y |\n",
    "| x < y | ... x is less than y |\n",
    "| x >= y | ... x is greater than or equal to y |\n",
    "| x <= y | ... x is less than or equal to y |"
   ]
  },
  {
   "cell_type": "markdown",
   "id": "abd92251",
   "metadata": {},
   "source": [
    "### Logical operators"
   ]
  },
  {
   "cell_type": "markdown",
   "id": "147f445d",
   "metadata": {},
   "source": [
    "Sometimes we may need to check multiple conditions simultaneously. The logical operator `and` is used to check if all the conditions are true, while the logical operator `or` is used to check if either of the conditons is true."
   ]
  },
  {
   "cell_type": "code",
   "execution_count": 57,
   "id": "9afb3aa8",
   "metadata": {},
   "outputs": [
    {
     "data": {
      "text/plain": [
       "False"
      ]
     },
     "execution_count": 57,
     "metadata": {},
     "output_type": "execute_result"
    }
   ],
   "source": [
    "#Checking if both the conditions are true using 'and'\n",
    "5==5 and 67==68"
   ]
  },
  {
   "cell_type": "code",
   "execution_count": 15,
   "id": "36e74a31",
   "metadata": {},
   "outputs": [
    {
     "data": {
      "text/plain": [
       "True"
      ]
     },
     "execution_count": 15,
     "metadata": {},
     "output_type": "execute_result"
    }
   ],
   "source": [
    "#Checking if either condition is true using 'or'\n",
    "x = 6; y = 90\n",
    "x<0 or y>50"
   ]
  },
  {
   "cell_type": "markdown",
   "id": "df81780d",
   "metadata": {},
   "source": [
    "### if-elif-else statement"
   ]
  },
  {
   "cell_type": "markdown",
   "id": "223af6dc",
   "metadata": {},
   "source": [
    "The `if-elif-else` statements can check several conditions, and execute the code corresponding to the condition that is true. Note that there can be as many `elif` statements as required."
   ]
  },
  {
   "cell_type": "markdown",
   "id": "423b791c",
   "metadata": {},
   "source": [
    "**Syntax:** Python uses indentation to identify the code to be executed if a condition is true. All the code indented within a condition is executed if the condition is true."
   ]
  },
  {
   "cell_type": "markdown",
   "id": "bb664336",
   "metadata": {},
   "source": [
    "**Example:** Input an integer. Print whether it is positive or negative."
   ]
  },
  {
   "cell_type": "code",
   "execution_count": 4,
   "id": "a07c8f99",
   "metadata": {},
   "outputs": [
    {
     "name": "stdout",
     "output_type": "stream",
     "text": [
      "Enter a number:-9\n",
      "Number is negative\n"
     ]
    }
   ],
   "source": [
    "number = input(\"Enter a number:\")  #Input an integer\n",
    "number_integer = int(number)       #Convert the integer to 'int' datatype\n",
    "if number_integer>0:               #Check if the integer is positive\n",
    "    print(\"Number is positive\")\n",
    "else:\n",
    "    print(\"Number is negative\")"
   ]
  },
  {
   "cell_type": "markdown",
   "id": "86260c9a",
   "metadata": {},
   "source": [
    "In the above code, note that anything entered by the user is taken as a string datatype by python. However, a string cannot be positive or negative. So, we converted the number input by the user to integer to check if it was positive or negative."
   ]
  },
  {
   "cell_type": "markdown",
   "id": "3c709ef1",
   "metadata": {},
   "source": [
    "There may be multiple statements to be executed if a condition is true. See the example below."
   ]
  },
  {
   "cell_type": "markdown",
   "id": "367e00b4",
   "metadata": {},
   "source": [
    "**Example:** Input a number. Print whether it is positive, negative or zero. If it is negative, print its absolute value. "
   ]
  },
  {
   "cell_type": "code",
   "execution_count": 1,
   "id": "1b3727cb",
   "metadata": {},
   "outputs": [
    {
     "name": "stdout",
     "output_type": "stream",
     "text": [
      "Enter a number:0\n",
      "Number is zero\n"
     ]
    }
   ],
   "source": [
    "number = input(\"Enter a number:\")\n",
    "number_integer = int(number)\n",
    "if number_integer>0:\n",
    "    print(\"Number is positive\")\n",
    "elif number_integer==0:\n",
    "    print(\"Number is zero\")\n",
    "else:\n",
    "    print(\"Number is negative\")\n",
    "    print(\"Absolute value of number = \", abs(number_integer))"
   ]
  },
  {
   "cell_type": "markdown",
   "id": "e6fb93be",
   "metadata": {},
   "source": [
    "### Practice exercise 1"
   ]
  },
  {
   "cell_type": "markdown",
   "id": "f06f1c05",
   "metadata": {},
   "source": [
    "Input a number. Print whether its odd or even. "
   ]
  },
  {
   "cell_type": "markdown",
   "id": "7ae32b95",
   "metadata": {},
   "source": [
    "### Try-except "
   ]
  },
  {
   "cell_type": "markdown",
   "id": "207cc045",
   "metadata": {},
   "source": [
    "If we suspect that some lines of code may produce an error, we can put them in a `try` block, and if an error does occur, we can use the `except` block to instead execute an alternative piece of code. This way the program will not stop if an error occurs within the `try` block, and instead will be directed to execute the code within the `except` block."
   ]
  },
  {
   "cell_type": "markdown",
   "id": "d73092fa",
   "metadata": {},
   "source": [
    "**Example:** Input an integer from the user. If the user inputs a valid integer, print whether it is a multiple of 3. However, if the user does not input a valid integer, print a message saying that the input is invalid."
   ]
  },
  {
   "cell_type": "code",
   "execution_count": 1,
   "id": "40789255",
   "metadata": {},
   "outputs": [
    {
     "name": "stdout",
     "output_type": "stream",
     "text": [
      "Enter an integer:hi\n",
      "Input must be an integer\n"
     ]
    }
   ],
   "source": [
    "num = input(\"Enter an integer:\")\n",
    "\n",
    "#The code lines within the 'try' block will execute as long as they run without error  \n",
    "try:\n",
    "    #Converting the input to integer, as user input is a string\n",
    "    num_int = int(num)  \n",
    "    \n",
    "    #checking if the integer is a multiple of 3\n",
    "    if num_int%3==0:            \n",
    "        print(\"Number is a multiple of 3\")\n",
    "    else:\n",
    "        print(\"Number is not a multiple of 3\")\n",
    "        \n",
    "#The code lines within the 'except' block will execute only if the code lines within the 'try' block throw an error        \n",
    "except:\n",
    "    print(\"Input must be an integer\")"
   ]
  },
  {
   "cell_type": "markdown",
   "id": "9a7894f7",
   "metadata": {},
   "source": [
    "### Practice exercise 2"
   ]
  },
  {
   "cell_type": "markdown",
   "id": "6389b3d2",
   "metadata": {},
   "source": [
    "#### \n",
    "Ask the user to enter their exam score. Print the grade based on their score as follows:\n",
    "\n",
    "| Score | Grade |\n",
    "| --- | --- |\n",
    "| (90,100] | A |\n",
    "| (80,90] | B |\n",
    "| [0,80] | C |\n",
    "\n",
    "If the user inputs a score which is not a number, print \"*Exam score must be a number*\". If the input is a number, but not in [0,100], print \"*Exam score must be in \\[0, 100\\]*\"."
   ]
  },
  {
   "cell_type": "markdown",
   "id": "7c8b9450",
   "metadata": {},
   "source": [
    "#### \n",
    "**Nested if-elif-else statements:** This question will lead you to create nested `if` statements, i.e., an `if` statement within another `if` statement.\n",
    "\n",
    "Think of a number in [1,5]. Ask the user to guess the number. \n",
    "\n",
    "- If the user guesses the number correctly, print \"Correct in the first attempt!\", and stop the program. Otherwise, print \"Incorrect! Try again\" and give them another chance to guess the number. \n",
    "- If the user guesses the number correctly in the second attempt, print \"Correct in the second attempt\", otherwise print \"Incorrect in both the attempts, the correct number is:\", and print the correct number."
   ]
  },
  {
   "cell_type": "markdown",
   "id": "cf8f4a3f",
   "metadata": {},
   "source": [
    "## Loops"
   ]
  },
  {
   "cell_type": "markdown",
   "id": "be8a5c56",
   "metadata": {},
   "source": [
    "With loops, a piece of code can be executed repeatedly for a fixed number of times or until a condition is satistified."
   ]
  },
  {
   "cell_type": "markdown",
   "id": "3436623b",
   "metadata": {},
   "source": [
    "### `for` loop\n",
    "With a `for` loop, a piece of code is executed a fixed number of times."
   ]
  },
  {
   "cell_type": "markdown",
   "id": "810a370b",
   "metadata": {},
   "source": [
    "We typically use `for` loops with an in-built python function called `range()` that supports `for` loops. Below is its description."
   ]
  },
  {
   "cell_type": "markdown",
   "id": "447e6ed7",
   "metadata": {},
   "source": [
    "**range():** The [range()](https://docs.python.org/3/library/functions.html#func-range) function returns a sequence of evenly-spaced integer values. It is commonly used in `for` loops to define the sequence of elements over which the iterations are performed."
   ]
  },
  {
   "cell_type": "markdown",
   "id": "9a34976d",
   "metadata": {},
   "source": [
    "Below is an example where the `range()` function is used to create a sequence of whole numbers upto 10. Ignore the `list()` function in the code below, as it will be introduced later."
   ]
  },
  {
   "cell_type": "code",
   "execution_count": 74,
   "id": "9b7f6f61",
   "metadata": {},
   "outputs": [
    {
     "name": "stdout",
     "output_type": "stream",
     "text": [
      "[0, 1, 2, 3, 4, 5, 6, 7, 8, 9]\n"
     ]
    }
   ],
   "source": [
    "print(list(range(10)))"
   ]
  },
  {
   "cell_type": "markdown",
   "id": "88fc04e6",
   "metadata": {},
   "source": [
    "Note that the last element is one less than the integer specified in the `range()` function."
   ]
  },
  {
   "cell_type": "markdown",
   "id": "16bc1653",
   "metadata": {},
   "source": [
    "Using the `range()` function, the `for` loop can iterate over a sequence of numbers. See the example below."
   ]
  },
  {
   "cell_type": "markdown",
   "id": "a8c22b67",
   "metadata": {},
   "source": [
    "**Example:** Print the first *n* elements of the [Fibonacci sequence](https://en.wikipedia.org/wiki/Fibonacci_number), where *n* is an integer input by the user, such that *n>2*. In a fibonacci sequence, each number is the sum of the preceding two numbers, and the sequence starts from 0,1. The sequence is as follows:\n",
    "\n",
    "0,1,1,2,3,5,8,13,...."
   ]
  },
  {
   "cell_type": "code",
   "execution_count": 62,
   "id": "8db3f328",
   "metadata": {},
   "outputs": [
    {
     "name": "stdout",
     "output_type": "stream",
     "text": [
      "Enter number of elements:6\n",
      "0\n",
      "1\n",
      "1\n",
      "2\n",
      "3\n",
      "5\n",
      "These are the first 6 elements of the fibonacci series\n"
     ]
    }
   ],
   "source": [
    "n=int(input(\"Enter number of elements:\"))\n",
    "\n",
    "#Initializing the sequence to start from 0, 1\n",
    "n1=0;n2=1\n",
    "\n",
    "#Printing the first two numbers of the sequence\n",
    "print(n1)\n",
    "print(n2)\n",
    "\n",
    "for i in range(n-2):  #Since two numbers of the sequence are already printed, n-2 numbers are required\n",
    "    \n",
    "    #Computing the next number of the sequence as the summation of the previous two numbers\n",
    "    n3 = n1+n2\n",
    "    print(n3)\n",
    "    \n",
    "    #As 'n3' is already printed, it is no longer the next number of the sequence. \n",
    "    #Thus, we move the values of the variables n1 and n2 one place to the right to compute the next number of the sequence.\n",
    "    n1 = n2\n",
    "    n2 = n3  \n",
    "    \n",
    "print(\"These are the first\", n, \"elements of the fibonacci series\")"
   ]
  },
  {
   "cell_type": "markdown",
   "id": "53f60880",
   "metadata": {},
   "source": [
    "As in the `if-elif-else` statement, the `for` loop uses identation to indicate the piece of code to be run repeatedly."
   ]
  },
  {
   "cell_type": "markdown",
   "id": "c55498e8",
   "metadata": {},
   "source": [
    "Note that we have used an in-built python function "
   ]
  },
  {
   "cell_type": "markdown",
   "id": "edc4cbb4",
   "metadata": {},
   "source": [
    "### `while` loop\n",
    "With a `while` loops, a piece of code is executed repeatedly until certain condition(s) hold."
   ]
  },
  {
   "cell_type": "markdown",
   "id": "e5edc15c",
   "metadata": {},
   "source": [
    "**Example:** Print all the elements of the [Fibonacci sequence](https://en.wikipedia.org/wiki/Fibonacci_number) less than *n*, where *n* is an integer input by the user, such that *n>2*. In a fibonacci sequence, each number is the sum of the preceding two numbers, and the sequence starts from 0,1. The sequence is as follows:\n",
    "\n",
    "0,1,1,2,3,5,8,13,...."
   ]
  },
  {
   "cell_type": "code",
   "execution_count": 66,
   "id": "0f9486f0",
   "metadata": {},
   "outputs": [
    {
     "name": "stdout",
     "output_type": "stream",
     "text": [
      "Enter the value of n:50\n",
      "0\n",
      "1\n",
      "1\n",
      "2\n",
      "3\n",
      "5\n",
      "8\n",
      "13\n",
      "21\n",
      "34\n",
      "These are all the elements of the fibonacci series less than 50\n"
     ]
    }
   ],
   "source": [
    "n=int(input(\"Enter the value of n:\"))\n",
    "\n",
    "#Initializing the sequence to start from 0, 1\n",
    "n1=0;n2=1\n",
    "\n",
    "#Printing the first number of the sequence\n",
    "print(n1)\n",
    "\n",
    "while n2<n:\n",
    "    \n",
    "    #Print the next number of the sequence\n",
    "    print(n2)\n",
    "    \n",
    "    #Comptuing the next number of the sequence as the summation of the previous two numbers\n",
    "    n3 = n1+n2\n",
    "    \n",
    "    #As n2 is already printed, assigning n2 to n3, so that the next number of the sequence (i.e., currently n3) is printed if the program enters the loop again\n",
    "    #Assigning n1 to n2 as n1 has already been used to compute the next number of the seqeunce (i.e., currently n3). \n",
    "    n1 = n2\n",
    "    n2 = n3  \n",
    "print(\"These are all the elements of the fibonacci series less than\", n)"
   ]
  },
  {
   "cell_type": "markdown",
   "id": "8a86b365",
   "metadata": {},
   "source": [
    "### Practice exercise 3"
   ]
  },
  {
   "cell_type": "markdown",
   "id": "878eae9d",
   "metadata": {},
   "source": [
    "#### \n",
    "Write a program that identifies whether a number input by the user is prime or not."
   ]
  },
  {
   "cell_type": "markdown",
   "id": "925f375c",
   "metadata": {},
   "source": [
    "#### \n",
    "Update the program above to print the prime numbers starting from 2, and less than *n* where *n* is a positive integer input by the user."
   ]
  },
  {
   "cell_type": "markdown",
   "id": "d786e2ca",
   "metadata": {},
   "source": [
    "## `break` statement"
   ]
  },
  {
   "cell_type": "markdown",
   "id": "4100ed16",
   "metadata": {},
   "source": [
    "The [break](https://docs.python.org/3/reference/simple_stmts.html#break) statement is used to unconditionally exit the innermost loop."
   ]
  },
  {
   "cell_type": "markdown",
   "id": "1711c3a2",
   "metadata": {},
   "source": [
    "For example, suppose we need to keep asking the user to input year of birth and compute the corresponding age, until the user enters 1900 as the year of birth."
   ]
  },
  {
   "cell_type": "code",
   "execution_count": 27,
   "id": "13650b1f",
   "metadata": {},
   "outputs": [
    {
     "name": "stdout",
     "output_type": "stream",
     "text": [
      "Enter year of birth:1987\n",
      "Age =  35\n",
      "Enter year of birth:1995\n",
      "Age =  27\n",
      "Enter year of birth:2001\n",
      "Age =  21\n",
      "Enter year of birth:1900\n"
     ]
    }
   ],
   "source": [
    "#The loop will continue to run indefinitely as the condition 'True' is always true\n",
    "while True:\n",
    "    year = int(input(\"Enter year of birth:\"))\n",
    "    if year==1900:\n",
    "        break        #If the user inputs 1900, then break out of the loop\n",
    "    else:\n",
    "        print(\"Age = \",2022-year)    #Otherwise compute and print the age"
   ]
  },
  {
   "cell_type": "markdown",
   "id": "c295a555",
   "metadata": {},
   "source": [
    "### Practice exercise 4"
   ]
  },
  {
   "cell_type": "markdown",
   "id": "0010619e",
   "metadata": {},
   "source": [
    "Write a program that finds and prints the largest factor of a number input by the user. Check the output if the user inputs 133."
   ]
  },
  {
   "cell_type": "markdown",
   "id": "a6c5e35c",
   "metadata": {},
   "source": [
    "## `continue` statement"
   ]
  },
  {
   "cell_type": "markdown",
   "id": "c3369950",
   "metadata": {},
   "source": [
    "The [continue](https://docs.python.org/3/reference/simple_stmts.html#the-continue-statement) statement is used to continue with the next iteration of the loop without executing the lines of code below it. \n",
    "\n",
    "For example, consider the following code:"
   ]
  },
  {
   "cell_type": "code",
   "execution_count": 4,
   "id": "3d4dd8d1",
   "metadata": {},
   "outputs": [
    {
     "name": "stdout",
     "output_type": "stream",
     "text": [
      "1\n",
      "3\n",
      "5\n",
      "7\n",
      "9\n"
     ]
    }
   ],
   "source": [
    "for i in range(10):\n",
    "    if i%2==0:\n",
    "        continue\n",
    "    print(i)"
   ]
  },
  {
   "cell_type": "markdown",
   "id": "66468e1d",
   "metadata": {},
   "source": [
    "When the control flow reads the statement `continue`, it goes back to the beginning of the `for` loop, and ignores the lines of code below the statement."
   ]
  },
  {
   "cell_type": "markdown",
   "id": "599468c6",
   "metadata": {},
   "source": [
    "### Practice exercise 5: \n",
    "Write a program that asks the user the question, \"How many stars are in the Milky Way (in billions)?\". If the user answers 100, the program should print correct, and stop. However, if the user answers incorrectly, the program should print \"incorrect\", and ask them if they want to try again. The program should continue to run until the user answers correctly, or they want to stop trying."
   ]
  },
  {
   "cell_type": "markdown",
   "id": "e78041ad",
   "metadata": {},
   "source": [
    "## Loops with strings"
   ]
  },
  {
   "cell_type": "markdown",
   "id": "5299980b",
   "metadata": {},
   "source": [
    "Loops can be used to iterate over a string, just like we used them to iterate over a sequence of integers."
   ]
  },
  {
   "cell_type": "markdown",
   "id": "d987e71d",
   "metadata": {},
   "source": [
    "Consider the following string:"
   ]
  },
  {
   "cell_type": "code",
   "execution_count": 1,
   "id": "9acdd414",
   "metadata": {},
   "outputs": [],
   "source": [
    "sentence = \"She sells sea shells on the sea shore\""
   ]
  },
  {
   "cell_type": "markdown",
   "id": "49db73e8",
   "metadata": {},
   "source": [
    "The $i^{th}$ character of the string can be retrieved by its index. For example, the first character of the string `sentence` is:"
   ]
  },
  {
   "cell_type": "code",
   "execution_count": 2,
   "id": "073dade7",
   "metadata": {},
   "outputs": [
    {
     "data": {
      "text/plain": [
       "'S'"
      ]
     },
     "execution_count": 2,
     "metadata": {},
     "output_type": "execute_result"
    }
   ],
   "source": [
    "sentence[0]"
   ]
  },
  {
   "cell_type": "markdown",
   "id": "ad90d743",
   "metadata": {},
   "source": [
    "**Slicing a string:**"
   ]
  },
  {
   "cell_type": "markdown",
   "id": "6a87417c",
   "metadata": {},
   "source": [
    "A part of the string can be sliced by passing the starting index (say `start`) and the stopping index (say `stop`) as `start`:`stop` to the index operator []. This is called slicing a string. For a string `S`, the characters starting from the index `start` upto the index `stop`, but not including `stop`, can be sliced as `S[start:stop]`."
   ]
  },
  {
   "cell_type": "markdown",
   "id": "9777bc00",
   "metadata": {},
   "source": [
    "For example, the slice of the string `sentence` from index `4` to index `9`, but not including `9` is:"
   ]
  },
  {
   "cell_type": "code",
   "execution_count": 4,
   "id": "e2abe450",
   "metadata": {},
   "outputs": [
    {
     "data": {
      "text/plain": [
       "'sells'"
      ]
     },
     "execution_count": 4,
     "metadata": {},
     "output_type": "execute_result"
    }
   ],
   "source": [
    "sentence[4:9]"
   ]
  },
  {
   "cell_type": "markdown",
   "id": "82130e17",
   "metadata": {},
   "source": [
    "**Example:** \n",
    "\n",
    "Input a string, and count and print the number of \"*t*\"s."
   ]
  },
  {
   "cell_type": "code",
   "execution_count": 5,
   "id": "912b0d70",
   "metadata": {},
   "outputs": [
    {
     "name": "stdout",
     "output_type": "stream",
     "text": [
      "Enter a sentence:Getting a tatto is not a nice experience\n",
      "Number of 't's in the string =  6\n"
     ]
    }
   ],
   "source": [
    "string = input(\"Enter a sentence:\")\n",
    "\n",
    "#Initializing a variable 'count_t' which will store the number of 't's in the string\n",
    "count_t = 0\n",
    "\n",
    "#Iterating over the entire length of the string. \n",
    "#The length of the string is given by the len() function\n",
    "for i in range(len(string)):\n",
    "    \n",
    "    #If the ith character of the string is 't', then we count it\n",
    "    if string[i]=='t':\n",
    "        count_t = count_t+1\n",
    "\n",
    "print(\"Number of 't's in the string = \",count_t)"
   ]
  },
  {
   "cell_type": "markdown",
   "id": "c6d015cf",
   "metadata": {},
   "source": [
    "### Practice exercise 6"
   ]
  },
  {
   "cell_type": "markdown",
   "id": "77e3ba5d",
   "metadata": {},
   "source": [
    "Write a program that asks the user to input a string, and print the number of \"*the*\"s in the string."
   ]
  }
 ],
 "metadata": {
  "kernelspec": {
   "display_name": "Python 3",
   "language": "python",
   "name": "python3"
  },
  "language_info": {
   "codemirror_mode": {
    "name": "ipython",
    "version": 3
   },
   "file_extension": ".py",
   "mimetype": "text/x-python",
   "name": "python",
   "nbconvert_exporter": "python",
   "pygments_lexer": "ipython3",
   "version": "3.8.8"
  }
 },
 "nbformat": 4,
 "nbformat_minor": 5
}
