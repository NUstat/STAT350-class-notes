{
 "cells": [
  {
   "cell_type": "markdown",
   "id": "4ef2d995",
   "metadata": {},
   "source": []
  },
  {
   "cell_type": "code",
   "execution_count": 2,
   "id": "5951b9b0",
   "metadata": {},
   "outputs": [
    {
     "name": "stdout",
     "output_type": "stream",
     "text": [
      "This is test file\n"
     ]
    }
   ],
   "source": [
    "print(\"This is test file\")"
   ]
  },
  {
   "cell_type": "code",
   "execution_count": 4,
   "id": "95394d08",
   "metadata": {},
   "outputs": [
    {
     "name": "stdout",
     "output_type": "stream",
     "text": [
      "Enter an integer>210\n",
      "0\n",
      "1\n",
      "1\n",
      "2\n",
      "3\n",
      "5\n",
      "8\n",
      "13\n",
      "21\n",
      "34\n"
     ]
    }
   ],
   "source": [
    "n = int(input(\"Enter an integer>2\"))\n",
    "n1=0;n2=1\n",
    "print(n1)\n",
    "print(n2)\n",
    "for i in range(n-2):\n",
    "    n3=n1+n2\n",
    "    print(n3)\n",
    "    n1 = n2\n",
    "    n2 = n3"
   ]
  },
  {
   "cell_type": "code",
   "execution_count": 8,
   "id": "19d03453",
   "metadata": {},
   "outputs": [
    {
     "name": "stdout",
     "output_type": "stream",
     "text": [
      "Enter an integer>2:200\n",
      "0\n",
      "1\n",
      "1\n",
      "1\n",
      "2\n",
      "3\n",
      "5\n",
      "8\n",
      "13\n",
      "21\n",
      "34\n",
      "55\n",
      "89\n",
      "144\n"
     ]
    }
   ],
   "source": [
    "n = int(input(\"Enter an integer>2:\"))\n",
    "n1=0;n2=1\n",
    "print(n1)\n",
    "print(n2)\n",
    "n3=n1+n2\n",
    "while(n3<n):    \n",
    "    print(n3)\n",
    "    n3=n1+n2\n",
    "    n1 = n2\n",
    "    n2 = n3"
   ]
  },
  {
   "cell_type": "code",
   "execution_count": 10,
   "id": "1045a09d",
   "metadata": {},
   "outputs": [
    {
     "name": "stdout",
     "output_type": "stream",
     "text": [
      "Enter a positive integer: 100\n",
      "2\n",
      "3\n",
      "5\n",
      "7\n",
      "11\n",
      "13\n",
      "17\n",
      "19\n",
      "23\n",
      "29\n",
      "31\n",
      "37\n",
      "41\n",
      "43\n",
      "47\n",
      "53\n",
      "59\n",
      "61\n",
      "67\n",
      "71\n",
      "73\n",
      "79\n",
      "83\n",
      "89\n",
      "97\n"
     ]
    }
   ],
   "source": [
    "n = int(input(\"Enter a positive integer: \"))\n",
    "for i in range(2,n):\n",
    "    prime = 1\n",
    "    for j in range(2,i):\n",
    "        if i%j==0:\n",
    "            prime = 0;\n",
    "            break;\n",
    "    if prime==1:\n",
    "        print(i)"
   ]
  }
 ],
 "metadata": {
  "kernelspec": {
   "display_name": "Python 3",
   "language": "python",
   "name": "python3"
  },
  "language_info": {
   "codemirror_mode": {
    "name": "ipython",
    "version": 3
   },
   "file_extension": ".py",
   "mimetype": "text/x-python",
   "name": "python",
   "nbconvert_exporter": "python",
   "pygments_lexer": "ipython3",
   "version": "3.8.8"
  }
 },
 "nbformat": 4,
 "nbformat_minor": 5
}
