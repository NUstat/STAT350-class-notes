{
 "cells": [
  {
   "cell_type": "raw",
   "id": "33dd6c4c",
   "metadata": {},
   "source": [
    "---\n",
    "title: \"Assignment C\"\n",
    "format: \n",
    "  html:\n",
    "    toc: true\n",
    "    toc-title: Contents\n",
    "    code-fold: show\n",
    "    self-contained: true\n",
    "jupyter: python3\n",
    "---"
   ]
  },
  {
   "cell_type": "markdown",
   "id": "0116f49b",
   "metadata": {},
   "source": [
    "## Instructions {-}\n",
    "\n",
    "1. You may talk to a friend, discuss the questions and potential directions for solving them. However, you need to write your own solutions and code separately, and not as a group activity. \n",
    "\n",
    "2. Do not write your name on the assignment.\n",
    "\n",
    "3. Write your code in the *Code* cells of the Jupyter notebook. Ensure that the solution is written neatly enough to understand and grade.\n",
    "\n",
    "4. Use [Quarto](https://quarto.org/docs/output-formats/html-basics.html) to print the *.ipynb* file as HTML. You will need to open the command prompt, navigate to the directory containing the file, and use the command: `quarto render filename.ipynb --to html`. Submit the HTML file.\n",
    "\n",
    "5. There are 5 points for clealiness and organization. The breakdow is as follows:\n",
    "\n",
    "- Must be an HTML file rendered using Quarto (1.5 pts).  \n",
    "\n",
    "- There aren’t excessively long outputs of extraneous information (e.g. no printouts of unnecessary results without good reason, there aren’t long printouts of which iteration a loop is on, there aren’t long sections of commented-out code, etc.) (1 pt)\n",
    "\n",
    "- There is no piece of unnecessary / redundant code, and no unnecessary / redundant text (1 pt)\n",
    "\n",
    "- The code should be commented and clearly written with intuitive variable names. For example, use variable names such as number_input, factor, hours, instead of a,b,xyz, etc. (1.5 pts)\n",
    "\n",
    "6. The assignment is worth 100 points, and is due on **29th April 2023 at 11:59 pm**. "
   ]
  },
  {
   "cell_type": "markdown",
   "id": "2e27b774",
   "metadata": {},
   "source": [
    "## GDP of The USA\n",
    "USA's GDP per capita from 1960 to 2021 is given by the tuple `T` in the code cell below. The values are arranged in ascending order of the year, i.e., the first value is for 1960, the second value is for 1961, and so on. "
   ]
  },
  {
   "cell_type": "code",
   "execution_count": 117,
   "id": "03164b35",
   "metadata": {},
   "outputs": [],
   "source": [
    "T = (3007, 3067, 3244, 3375,3574, 3828, 4146, 4336, 4696, 5032,5234,5609,6094,6726,7226,7801,8592,9453,10565,11674,12575,13976,14434,15544,17121,18237,19071,20039,21417,22857,23889,24342,25419,26387,27695,28691,29968,31459,32854,34515,36330,37134,37998,39490,41725,44123,46302,48050,48570,47195,48651,50066,51784,53291,55124,56763,57867,59915,62805,65095,63028,69288)"
   ]
  },
  {
   "cell_type": "markdown",
   "id": "ca3b040d",
   "metadata": {},
   "source": [
    "### Gaps\n",
    "Use list comprehension to produce a list of the gaps between consecutive entries in `T`, i.e, the increase in GDP per capita with respect to the previous year. The list with gaps should look like: [60, 177, ...].\n",
    "\n",
    "*(6 points)*"
   ]
  },
  {
   "cell_type": "markdown",
   "id": "f2c777f3",
   "metadata": {},
   "source": [
    "### Maximum gap size\n",
    "Use the list developed in C.1.1 to find the maximum gap size, i.e, the maximum increase in GDP per capita.\n",
    "\n",
    "*(2 points)*"
   ]
  },
  {
   "cell_type": "markdown",
   "id": "128dc27e",
   "metadata": {},
   "source": [
    "### Gaps higher than \\$1000\n",
    "Using list comprehension with the list developed in C.1.1, find the percentage of gaps that have size greater than $1000.\n",
    "\n",
    "*(6 points)*"
   ]
  },
  {
   "cell_type": "markdown",
   "id": "ada12acf",
   "metadata": {},
   "source": [
    "### Dictionary\n",
    "Create a dictionary `D`, where the `key` is the year, and `value` for the `key` is the increase in GDP per capita in that year with respect to the previous year, i.e., the gaps computed in C.1.1. \n",
    "\n",
    "*(6 points)*"
   ]
  },
  {
   "cell_type": "markdown",
   "id": "98f689b7",
   "metadata": {},
   "source": [
    "### Maximum increase\n",
    "Use the dictionary `D` to find the year when the GDP per capita increase was the maximum as compared to the previous year. Use the list comprehension method.\n",
    "\n",
    "*(6 points)*\n",
    "\n",
    "**Hint:** [...... for .... in D.items() if ......]"
   ]
  },
  {
   "cell_type": "markdown",
   "id": "3b7269a5",
   "metadata": {},
   "source": [
    "### GDP per capita decrease\n",
    "Use the dictionary `D` to find the years when the GDP per capita decreased with respect to the previous year. Use the list comprehension method.\n",
    "\n",
    "*(6 points)*"
   ]
  },
  {
   "cell_type": "markdown",
   "id": "fe7ea9bb",
   "metadata": {},
   "source": [
    "## Ted Talks\n",
    "### Reading data\n",
    "Read the file *TED_Talks.json* on ted talks using the code below. You will get the data in the object `TED_Talks_data`. Just look at the data structure of `TED_Talks_data`. You will need to know how the data is structured in lists/dictionaries to answer the questions below.\n",
    "\n",
    "Note that the data must be stored in the same directory as the notebook.\n",
    "\n",
    "*(2 points)*"
   ]
  },
  {
   "cell_type": "code",
   "execution_count": 97,
   "id": "22ce4a4b",
   "metadata": {},
   "outputs": [],
   "source": [
    "import json\n",
    "with open(\"TED_Talks.json\", \"r\") as file:\n",
    "    TED_Talks_data=json.load(file)"
   ]
  },
  {
   "cell_type": "markdown",
   "id": "16fccc9b",
   "metadata": {},
   "source": [
    "### Number of talks\n",
    "Find the number of talks in the dataset.\n",
    "\n",
    "*(2 points)*"
   ]
  },
  {
   "cell_type": "markdown",
   "id": "16c1a490",
   "metadata": {},
   "source": [
    "### Popular talk\n",
    "Find the `headline`, `speaker` and `year_filmed` of the talk with the highest number of `views`.\n",
    "\n",
    "*(6 points)*"
   ]
  },
  {
   "cell_type": "markdown",
   "id": "9403cdfb",
   "metadata": {},
   "source": [
    "### Mean and median views\n",
    "What are the mean and median number of `views` for a talk? Can we say that the majority of talks (i.e., more than 50% of the talks) have less `views` than the average number of `views` for a talk? Justify your answer.\n",
    "\n",
    "*(6 points)*"
   ]
  },
  {
   "cell_type": "markdown",
   "id": "3eb2d4f2",
   "metadata": {},
   "source": [
    "### Views vs average views\n",
    "Do at least 25% of the talks have more `views` than the average number of `views` for a talk? Justify your answer.\n",
    "\n",
    "*(4 points)*"
   ]
  },
  {
   "cell_type": "markdown",
   "id": "8dea0044",
   "metadata": {},
   "source": [
    "### `Confusing` talks\n",
    "Find the `headline` of the talk that received the highest number of votes in the `Confusing` category.\n",
    "\n",
    "*(8 points)*"
   ]
  },
  {
   "cell_type": "markdown",
   "id": "820d8059",
   "metadata": {},
   "source": [
    "### `Fascinating` talks\n",
    "Find the `headline` and the `year_filmed` of the talk that received the highest percentage of votes in the *Fascinating* category. \n",
    "\n",
    "$$\\text{Percentage of } \\textit{Fascinating} \\text{ votes for a ted talk} = \\frac{Number \\ of \\  votes \\ in \\ the \\ Fascinating \\ category \\ }{Total \\ votes \\ in \\ all  \\ categories}$$\n",
    "\n",
    "*(10 points)*"
   ]
  },
  {
   "cell_type": "markdown",
   "id": "498b0a1c",
   "metadata": {},
   "source": [
    "## Poker\n",
    "\n",
    "The object `deck` defined below corresponds to a deck of cards. Estimate the probability that a five card hand will be:\n",
    "\n",
    "1. Straight\n",
    "\n",
    "2. Three-of-a-kind \n",
    "\n",
    "3. Two-pair\n",
    "\n",
    "4. One-pair\n",
    "\n",
    "5. High card\n",
    "\n",
    "You may check the meaning of the above terms [here](https://en.wikipedia.org/wiki/List_of_poker_hands).\n",
    "\n",
    "*(25 points)*\n",
    "\n",
    "**Hint:**\n",
    "\n",
    "Estimate these probabilities as follows.\n",
    "\n",
    "1. Write a function that accepts a hand of 5 cards as argument, and returns relevant characterisitics of a hand, such as the number of distinct card values, maximum occurences of a value etc. Using the values returned by this function (may be in a dictionary), you can compute if the hand is of any of the above types *(Straight / Three-of-a-kind / two-pair / one-pair / high card)*. \n",
    "\n",
    "\n",
    "2. Randomly pull a hand of 5 cards from the `deck`. Call the function developed in (1) to get the relevant characteristics of the hand. Use those characteristics to determine if the hand is one of the five mentioned types *(Straight / Three-of-a-kind / two-pair / one-pair / high card)*. \n",
    "\n",
    "\n",
    "3. Repeat (2) 10,000 times.\n",
    "\n",
    "\n",
    "4. Estimate the probability of the hand being of the above five mentioned types *(Straight / Three-of-a-kind / two-pair / one-pair / high card)* from the results of the 10,000 simulations.\n",
    "\n",
    "You may use the function `shuffle()` from the library `random` to shuffle the deck everytime before pulling a hand of 5 cards.\n",
    "\n",
    "**You don't need to stick to the hint if you feel you have a better way to do it.** In case you have a better way, you can claim 10 bonus points for this assignment."
   ]
  },
  {
   "cell_type": "code",
   "execution_count": 4,
   "id": "a6071c32",
   "metadata": {},
   "outputs": [],
   "source": [
    "deck = [{'value':i, 'suit':c}\n",
    "for c in ['spades', 'clubs', 'hearts', 'diamonds']\n",
    "for i in range(2,15)]"
   ]
  }
 ],
 "metadata": {
  "kernelspec": {
   "display_name": "Python 3",
   "language": "python",
   "name": "python3"
  },
  "language_info": {
   "codemirror_mode": {
    "name": "ipython",
    "version": 3
   },
   "file_extension": ".py",
   "mimetype": "text/x-python",
   "name": "python",
   "nbconvert_exporter": "python",
   "pygments_lexer": "ipython3",
   "version": "3.8.8"
  }
 },
 "nbformat": 4,
 "nbformat_minor": 5
}
