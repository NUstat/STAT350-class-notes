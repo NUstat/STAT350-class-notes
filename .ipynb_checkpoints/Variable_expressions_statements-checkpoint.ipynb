{
 "cells": [
  {
   "cell_type": "raw",
   "id": "d5e49576",
   "metadata": {},
   "source": [
    "---\n",
    "title: \"Variables, expressions and statements\"\n",
    "format: \n",
    "  html:\n",
    "    toc: true\n",
    "    code-fold: false\n",
    "jupyter: python3\n",
    "---"
   ]
  },
  {
   "cell_type": "markdown",
   "id": "17018f06",
   "metadata": {},
   "source": [
    "## Data types"
   ]
  },
  {
   "cell_type": "markdown",
   "id": "76542a92",
   "metadata": {},
   "source": [
    "Some of the commonly used objects in python are numbers - integer and float, strings and bool (true/false). The data type of the object can be identified using the in-built python function type(). For example, see the following objects and their types:"
   ]
  },
  {
   "cell_type": "code",
   "execution_count": 1,
   "id": "9ba52e1a",
   "metadata": {},
   "outputs": [
    {
     "data": {
      "text/plain": [
       "int"
      ]
     },
     "execution_count": 1,
     "metadata": {},
     "output_type": "execute_result"
    }
   ],
   "source": [
    "type(4)"
   ]
  },
  {
   "cell_type": "code",
   "execution_count": 36,
   "id": "240cc76c",
   "metadata": {},
   "outputs": [
    {
     "data": {
      "text/plain": [
       "float"
      ]
     },
     "execution_count": 36,
     "metadata": {},
     "output_type": "execute_result"
    }
   ],
   "source": [
    "type(4.4)"
   ]
  },
  {
   "cell_type": "code",
   "execution_count": 37,
   "id": "8bf2d5ac",
   "metadata": {},
   "outputs": [
    {
     "data": {
      "text/plain": [
       "str"
      ]
     },
     "execution_count": 37,
     "metadata": {},
     "output_type": "execute_result"
    }
   ],
   "source": [
    "type('4')"
   ]
  },
  {
   "cell_type": "code",
   "execution_count": 38,
   "id": "d92acd98",
   "metadata": {},
   "outputs": [
    {
     "data": {
      "text/plain": [
       "bool"
      ]
     },
     "execution_count": 38,
     "metadata": {},
     "output_type": "execute_result"
    }
   ],
   "source": [
    "type(True)"
   ]
  },
  {
   "cell_type": "markdown",
   "id": "80119262",
   "metadata": {},
   "source": [
    "### Practice exercise 1"
   ]
  },
  {
   "cell_type": "markdown",
   "id": "cdb44b00",
   "metadata": {},
   "source": [
    "What is the datatype of the following objects?\n",
    "\n",
    "1. 'This is False'\n",
    "\n",
    "2. \"This is a number\"\n",
    "\n",
    "3. 1000\n",
    "\n",
    "4. 65.65\n",
    "\n",
    "5. False"
   ]
  },
  {
   "cell_type": "markdown",
   "id": "130ea683",
   "metadata": {},
   "source": [
    "## Constants and Variables"
   ]
  },
  {
   "cell_type": "markdown",
   "id": "b525ec26",
   "metadata": {},
   "source": [
    "A constant is a value that cannot be changed. It may be a number, string or any other datatype. Below are some examples of printing a constant:"
   ]
  },
  {
   "cell_type": "code",
   "execution_count": 39,
   "id": "2a44be19",
   "metadata": {},
   "outputs": [
    {
     "name": "stdout",
     "output_type": "stream",
     "text": [
      "4\n"
     ]
    }
   ],
   "source": [
    "print(4)"
   ]
  },
  {
   "cell_type": "code",
   "execution_count": 40,
   "id": "7fe2d577",
   "metadata": {},
   "outputs": [
    {
     "name": "stdout",
     "output_type": "stream",
     "text": [
      "This is a string and also a constant\n"
     ]
    }
   ],
   "source": [
    "print(\"This is a string and also a constant\")"
   ]
  },
  {
   "cell_type": "code",
   "execution_count": 41,
   "id": "18f282c5",
   "metadata": {},
   "outputs": [
    {
     "name": "stdout",
     "output_type": "stream",
     "text": [
      "False\n"
     ]
    }
   ],
   "source": [
    "print(False)"
   ]
  },
  {
   "cell_type": "markdown",
   "id": "21b519ce",
   "metadata": {},
   "source": [
    "A variable is an object whose value can be changed. For example, consider the object below:"
   ]
  },
  {
   "cell_type": "code",
   "execution_count": 42,
   "id": "d5ba8d39",
   "metadata": {},
   "outputs": [],
   "source": [
    "x = 2"
   ]
  },
  {
   "cell_type": "markdown",
   "id": "1db00dc7",
   "metadata": {},
   "source": [
    "In the above code the variable `x` has been assigned a value of `2`. However, the value of `x` can be changed:"
   ]
  },
  {
   "cell_type": "code",
   "execution_count": 44,
   "id": "cf3f73c9",
   "metadata": {},
   "outputs": [
    {
     "name": "stdout",
     "output_type": "stream",
     "text": [
      "x = 3\n"
     ]
    }
   ],
   "source": [
    "x = 3\n",
    "print(\"x =\", x)"
   ]
  },
  {
   "cell_type": "markdown",
   "id": "da0e935d",
   "metadata": {},
   "source": [
    "Thus, the object `x` in the above code is a variable that refers to a memory location storing the constant value of 3."
   ]
  },
  {
   "cell_type": "markdown",
   "id": "b3389533",
   "metadata": {},
   "source": [
    "### Variable names"
   ]
  },
  {
   "cell_type": "markdown",
   "id": "2aba29e3",
   "metadata": {},
   "source": [
    "There are a some rules for naming variables:\n",
    "\n",
    "1. A variable name must start with a letter or underscore _ \n",
    "\n",
    "2. A variable name may consist of letters, numbers, and underscores only"
   ]
  },
  {
   "cell_type": "markdown",
   "id": "cbe22336",
   "metadata": {},
   "source": [
    "For example, some of the valid variable names are *salary, text10, _varname*. Some of the invalid variable names are *salary% 10text, varname)*"
   ]
  },
  {
   "cell_type": "markdown",
   "id": "0d6777e0",
   "metadata": {},
   "source": [
    "3. Variable names are case-sensitive. For example, the variable `Varname` will be different from `varname`."
   ]
  },
  {
   "cell_type": "markdown",
   "id": "3aeab90e",
   "metadata": {},
   "source": [
    "4. There are certain *reserved words* in python that have some meaning, and cannot be used as variable names. These reserved words are:"
   ]
  },
  {
   "cell_type": "code",
   "execution_count": 4,
   "id": "1df5b5e1",
   "metadata": {},
   "outputs": [
    {
     "data": {
      "text/html": [
       "<img src=\"reserved_words.jpg\" width=\"600\"/>"
      ],
      "text/plain": [
       "<IPython.core.display.Image object>"
      ]
     },
     "execution_count": 4,
     "metadata": {},
     "output_type": "execute_result"
    }
   ],
   "source": [
    "#| echo: false\n",
    "\n",
    "# import image module\n",
    "from IPython.display import Image\n",
    "\n",
    "# get the image\n",
    "Image(url=\"reserved_words.jpg\",width=600)"
   ]
  },
  {
   "cell_type": "markdown",
   "id": "9a91c1c4",
   "metadata": {},
   "source": [
    "**Best coding practice:** Variables should be named such that they are informative of the value they are storing. For example, suppose we wish to compute the income tax a person has to pay based on their income and tax rate. Below are two ways of naming variables to do this computation:"
   ]
  },
  {
   "cell_type": "code",
   "execution_count": 62,
   "id": "02cc432d",
   "metadata": {},
   "outputs": [
    {
     "name": "stdout",
     "output_type": "stream",
     "text": [
      "Income tax =  12000.0\n"
     ]
    }
   ],
   "source": [
    "income = 80000\n",
    "tax_rate = 0.15\n",
    "print(\"Income tax = \",income*tax_rate)"
   ]
  },
  {
   "cell_type": "code",
   "execution_count": 64,
   "id": "72c25896",
   "metadata": {},
   "outputs": [
    {
     "name": "stdout",
     "output_type": "stream",
     "text": [
      "Income tax =  12000.0\n"
     ]
    }
   ],
   "source": [
    "a = 80000\n",
    "b = 0.15\n",
    "print(\"Income tax = \",a*b)"
   ]
  },
  {
   "cell_type": "markdown",
   "id": "733fda0a",
   "metadata": {},
   "source": [
    "The former code chuck is better than the latter one as it makes the code easy to read and understand."
   ]
  },
  {
   "cell_type": "markdown",
   "id": "5ec29370",
   "metadata": {},
   "source": [
    "### Practice exercise 2"
   ]
  },
  {
   "cell_type": "markdown",
   "id": "0082fd60",
   "metadata": {},
   "source": [
    "#### Variables or constants?\n",
    "In the statements below, classify the objects as variables or constants?\n",
    "\n",
    "1. value = \"name\"\n",
    "\n",
    "2. constant = 7\n",
    "\n",
    "3. another_const = \"variable\"\n",
    "\n",
    "4. True_False = True"
   ]
  },
  {
   "cell_type": "markdown",
   "id": "74a90dad",
   "metadata": {},
   "source": [
    "#### Valid variable names?\n",
    "Which of the following variable names are valid?\n",
    "   \n",
    "1. var.name\n",
    "\n",
    "2. var9name\n",
    "\n",
    "3. _varname\n",
    "\n",
    "4. varname*"
   ]
  },
  {
   "cell_type": "markdown",
   "id": "b6383253",
   "metadata": {},
   "source": [
    "## Assignment statements"
   ]
  },
  {
   "cell_type": "markdown",
   "id": "a78fc068",
   "metadata": {},
   "source": [
    "Values are assigned to variables with the assignment statement (=). An assignment statement may have a constant or an expression on the right hand side of the (=) sign, and a variable name on the left hand side."
   ]
  },
  {
   "cell_type": "markdown",
   "id": "4a654745",
   "metadata": {},
   "source": [
    "For example, the code lines below are assignment statements"
   ]
  },
  {
   "cell_type": "code",
   "execution_count": 69,
   "id": "1517b979",
   "metadata": {},
   "outputs": [],
   "source": [
    "var = 2\n",
    "var = var + 3"
   ]
  },
  {
   "cell_type": "markdown",
   "id": "707ef86f",
   "metadata": {},
   "source": [
    "## Expressions"
   ]
  },
  {
   "cell_type": "markdown",
   "id": "0f271694",
   "metadata": {},
   "source": [
    "The mathematical operations and their corresponding operators are as follows:\n",
    "\n",
    "1. Exponent: ** \n",
    "\n",
    "2. Remainder: %\n",
    "\n",
    "3. Multiplication: *\n",
    "\n",
    "4. Division: /\n",
    "\n",
    "5. Addition: +\n",
    "\n",
    "6. Subtraction: -"
   ]
  },
  {
   "cell_type": "markdown",
   "id": "fe21f1d4",
   "metadata": {},
   "source": [
    "The operators above are in decreasing order of precedence, i.e., an exponent will be evaluated before a remainder, a remainder will be evaluated before a multiplication, and so on. "
   ]
  },
  {
   "cell_type": "markdown",
   "id": "43f63f5c",
   "metadata": {},
   "source": [
    "For example, check the precedence of operators in the computation of the following expression:"
   ]
  },
  {
   "cell_type": "code",
   "execution_count": 80,
   "id": "821235ee",
   "metadata": {},
   "outputs": [
    {
     "data": {
      "text/plain": [
       "8"
      ]
     },
     "execution_count": 80,
     "metadata": {},
     "output_type": "execute_result"
    }
   ],
   "source": [
    "2+3%4*2"
   ]
  },
  {
   "cell_type": "markdown",
   "id": "60a86929",
   "metadata": {},
   "source": [
    "In case an expression becomes too complicated, use of parenthesis may help clarify the precendence of operators. Parenthesis takes precendence over all the operators listed above. For example, in the expression below, the terms within parenthesis are evaluated first:"
   ]
  },
  {
   "cell_type": "code",
   "execution_count": 82,
   "id": "f2c2e5bc",
   "metadata": {},
   "outputs": [
    {
     "data": {
      "text/plain": [
       "5"
      ]
     },
     "execution_count": 82,
     "metadata": {},
     "output_type": "execute_result"
    }
   ],
   "source": [
    "2+3%(4*2)"
   ]
  },
  {
   "cell_type": "markdown",
   "id": "da111d4e",
   "metadata": {},
   "source": [
    "### Practice exercise 3"
   ]
  },
  {
   "cell_type": "markdown",
   "id": "64f1ac8f",
   "metadata": {},
   "source": [
    "Which of the following statements is an assignment statement:\n",
    "\n",
    "1. x = 5\n",
    "\n",
    "2. print(x)\n",
    "\n",
    "3. type(x)\n",
    "\n",
    "4. x + 4"
   ]
  },
  {
   "cell_type": "markdown",
   "id": "7f9bdd19",
   "metadata": {},
   "source": [
    "What will be the result of the following expression:"
   ]
  },
  {
   "cell_type": "code",
   "execution_count": null,
   "id": "ad38dc1d",
   "metadata": {},
   "outputs": [],
   "source": [
    "1%2**3*2+1"
   ]
  },
  {
   "cell_type": "markdown",
   "id": "479fb784",
   "metadata": {},
   "source": [
    "## Converting datatypes"
   ]
  },
  {
   "cell_type": "markdown",
   "id": "d50d9e2c",
   "metadata": {},
   "source": [
    "Sometimes a value may have a datatype that is not suitable for using it. For example, consider the variable called *annual_income* in the code below:"
   ]
  },
  {
   "cell_type": "code",
   "execution_count": 86,
   "id": "df0f093c",
   "metadata": {},
   "outputs": [],
   "source": [
    "annual_income = \"80000\""
   ]
  },
  {
   "cell_type": "markdown",
   "id": "ecdbc641",
   "metadata": {},
   "source": [
    "Suppose we wish to divide *annual_income* by 12 to get the monthly income. We cannot use the variable *monthly_income* directly as its datatype is a string and not a number. Thus, numerical operations cannnot be performed on the variable *annual_income*."
   ]
  },
  {
   "cell_type": "markdown",
   "id": "f082264d",
   "metadata": {},
   "source": [
    "We'll need to convert *annual_income* to an integer. For that we will use the python's in-built `int()` function:"
   ]
  },
  {
   "cell_type": "code",
   "execution_count": 87,
   "id": "5b8d94d6",
   "metadata": {},
   "outputs": [
    {
     "name": "stdout",
     "output_type": "stream",
     "text": [
      "monthly income =  6666.666666666667\n"
     ]
    }
   ],
   "source": [
    "annual_income = int(annual_income)\n",
    "monthly_income = annual_income/12\n",
    "print(\"monthly income = \", monthly_income)"
   ]
  },
  {
   "cell_type": "markdown",
   "id": "ba931ae9",
   "metadata": {},
   "source": [
    "Similarly, datatypes can be converted from one type to another using in-built python functions as shown below:"
   ]
  },
  {
   "cell_type": "code",
   "execution_count": 88,
   "id": "30c173fa",
   "metadata": {},
   "outputs": [
    {
     "data": {
      "text/plain": [
       "'9'"
      ]
     },
     "execution_count": 88,
     "metadata": {},
     "output_type": "execute_result"
    }
   ],
   "source": [
    "#Converting integer to string\n",
    "str(9)"
   ]
  },
  {
   "cell_type": "code",
   "execution_count": 89,
   "id": "a602c121",
   "metadata": {},
   "outputs": [
    {
     "data": {
      "text/plain": [
       "4.5"
      ]
     },
     "execution_count": 89,
     "metadata": {},
     "output_type": "execute_result"
    }
   ],
   "source": [
    "#Converting string to float\n",
    "float(\"4.5\")"
   ]
  },
  {
   "cell_type": "code",
   "execution_count": 91,
   "id": "13733bce",
   "metadata": {},
   "outputs": [
    {
     "data": {
      "text/plain": [
       "1"
      ]
     },
     "execution_count": 91,
     "metadata": {},
     "output_type": "execute_result"
    }
   ],
   "source": [
    "#Converting bool to integer\n",
    "int(True)"
   ]
  },
  {
   "cell_type": "markdown",
   "id": "9bca466a",
   "metadata": {},
   "source": [
    "Sometimes, conversion of a value may not be possible. For example, it is not possible to convert the variable *greeting* defined below to a number:"
   ]
  },
  {
   "cell_type": "code",
   "execution_count": null,
   "id": "d30102b8",
   "metadata": {},
   "outputs": [],
   "source": [
    "greeting = \"hello\""
   ]
  },
  {
   "cell_type": "markdown",
   "id": "b3e9a5c0",
   "metadata": {},
   "source": [
    "However, in some cases, mathematical operators such as `+` and `*` can be applied on strings. The operator `+` concatenates multiple strings, while the operator `*` can be used to concatenate a string to itself multiple times:"
   ]
  },
  {
   "cell_type": "code",
   "execution_count": 97,
   "id": "295826b1",
   "metadata": {},
   "outputs": [
    {
     "data": {
      "text/plain": [
       "'Hi there!'"
      ]
     },
     "execution_count": 97,
     "metadata": {},
     "output_type": "execute_result"
    }
   ],
   "source": [
    "\"Hi\" + \" there!\""
   ]
  },
  {
   "cell_type": "code",
   "execution_count": 98,
   "id": "90ec8949",
   "metadata": {},
   "outputs": [
    {
     "data": {
      "text/plain": [
       "'53'"
      ]
     },
     "execution_count": 98,
     "metadata": {},
     "output_type": "execute_result"
    }
   ],
   "source": [
    "\"5\" + '3'"
   ]
  },
  {
   "cell_type": "code",
   "execution_count": 99,
   "id": "c3dc3050",
   "metadata": {},
   "outputs": [
    {
     "data": {
      "text/plain": [
       "'55555555'"
      ]
     },
     "execution_count": 99,
     "metadata": {},
     "output_type": "execute_result"
    }
   ],
   "source": [
    "\"5\"*8"
   ]
  },
  {
   "cell_type": "markdown",
   "id": "e9bc3323",
   "metadata": {},
   "source": [
    "## User input"
   ]
  },
  {
   "cell_type": "markdown",
   "id": "033d992f",
   "metadata": {},
   "source": [
    "Python's in-built input() function can be used to accept an input from the user. For example, suppose we wish the user to onput their age:"
   ]
  },
  {
   "cell_type": "code",
   "execution_count": 106,
   "id": "e2048c41",
   "metadata": {},
   "outputs": [
    {
     "name": "stdout",
     "output_type": "stream",
     "text": [
      "Enter your age:34\n"
     ]
    }
   ],
   "source": [
    "age = input(\"Enter your age:\")"
   ]
  },
  {
   "cell_type": "markdown",
   "id": "fa727cc3",
   "metadata": {},
   "source": [
    "The entered value is stored in the variable `age` and can be used for computation."
   ]
  },
  {
   "cell_type": "markdown",
   "id": "538ebb50",
   "metadata": {},
   "source": [
    "### Practice exercise 4\n",
    "Ask the user to input their year of birth, and print their age."
   ]
  },
  {
   "cell_type": "markdown",
   "id": "f6783f8f",
   "metadata": {},
   "source": [
    "## Commenting code"
   ]
  },
  {
   "cell_type": "markdown",
   "id": "68c14f2a",
   "metadata": {},
   "source": [
    "The `#` symbol can be used to comment the code. Anything after the `#` sign is ignored by python. Commenting a code may have several purposes, such as:\n",
    "\n",
    "-  Describe what is going to happen in a sequence of code\n",
    "\n",
    "-  Document who wrote the code or other ancillary information\n",
    "\n",
    "-  Turn off a line of code - perhaps temporarily"
   ]
  },
  {
   "cell_type": "markdown",
   "id": "ea5e5ecf",
   "metadata": {},
   "source": [
    "For example, below is code with a comment to describe the purpose of the code:"
   ]
  },
  {
   "cell_type": "code",
   "execution_count": 109,
   "id": "af55d2b1",
   "metadata": {},
   "outputs": [
    {
     "name": "stdout",
     "output_type": "stream",
     "text": [
      "Total lecture hours of STAT201= 25.0\n"
     ]
    }
   ],
   "source": [
    "#Computing number of hours of lecture in this course\n",
    "print(\"Total lecture hours of STAT201=\",10*3*(5/6))"
   ]
  },
  {
   "cell_type": "markdown",
   "id": "59e0ce21",
   "metadata": {},
   "source": [
    "### Practice exercise 5"
   ]
  },
  {
   "cell_type": "markdown",
   "id": "2ad5946c",
   "metadata": {},
   "source": [
    "Which of the following lines is a comment:\n",
    "\n",
    "1. #this is a comment\n",
    "\n",
    "2. ##this may be a comment\n",
    "\n",
    "3. A comment#"
   ]
  },
  {
   "cell_type": "markdown",
   "id": "6b10264e",
   "metadata": {},
   "source": [
    "## Programming errors"
   ]
  },
  {
   "cell_type": "markdown",
   "id": "adefb195",
   "metadata": {},
   "source": [
    "There are 3 types of errors that can occur in a program - syntax errors, run-time errors, and semantic errors."
   ]
  },
  {
   "cell_type": "markdown",
   "id": "7b711ee1",
   "metadata": {},
   "source": [
    "### Syntax errors"
   ]
  },
  {
   "cell_type": "markdown",
   "id": "ad519b16",
   "metadata": {},
   "source": [
    "Syntax errors occur if the code is written in a way that it does not comply with the rules / standards / laws of the language (python in this case). For example, suppose a values is assigned to a variable as follows:"
   ]
  },
  {
   "cell_type": "code",
   "execution_count": null,
   "id": "604b30cb",
   "metadata": {},
   "outputs": [],
   "source": [
    "9value = 2"
   ]
  },
  {
   "cell_type": "markdown",
   "id": "5dd8a7e3",
   "metadata": {},
   "source": [
    "The above code when executed will indicate a syntax error as it violates the rule that a variable name must not start with a number."
   ]
  },
  {
   "cell_type": "markdown",
   "id": "4d289b44",
   "metadata": {},
   "source": [
    "### Run-time errors"
   ]
  },
  {
   "cell_type": "markdown",
   "id": "a5923f74",
   "metadata": {},
   "source": [
    "Run-time errors occur when a code is syntactically correct, but there are other issues with the code such as:\n",
    "\n",
    "- Misspelled or incorrectly capitalized variable and function names\n",
    "- Attempts to perform operations (such as math operations) on data of the wrong type (ex. attempting to subtract two variables that hold string values)\n",
    "- Dividing by zero\n",
    "- Attempts to use a type conversion function such as int on a value that can’t be converted to an int"
   ]
  },
  {
   "cell_type": "markdown",
   "id": "c2cbe10e",
   "metadata": {},
   "source": [
    "For example, suppose a number is multipled as follws:"
   ]
  },
  {
   "cell_type": "code",
   "execution_count": null,
   "id": "59bc01ed",
   "metadata": {},
   "outputs": [],
   "source": [
    "multiplication_result = x * 4"
   ]
  },
  {
   "cell_type": "markdown",
   "id": "615574bd",
   "metadata": {},
   "source": [
    "The above code is syntactically correct. However, it will generate an error as the variable `x` has not been defined as a number."
   ]
  },
  {
   "cell_type": "markdown",
   "id": "ed44af9a",
   "metadata": {},
   "source": [
    "### Semantic errors"
   ]
  },
  {
   "cell_type": "markdown",
   "id": "2dc59694",
   "metadata": {},
   "source": [
    "Semantic errors occur when the code executes without an error being indicated by the compiler. However, it does not work as inteded by the user. For example, consider the following code of mutiplying the number 6 by 3:"
   ]
  },
  {
   "cell_type": "code",
   "execution_count": 34,
   "id": "1b12a31d",
   "metadata": {},
   "outputs": [
    {
     "data": {
      "text/plain": [
       "'666'"
      ]
     },
     "execution_count": 34,
     "metadata": {},
     "output_type": "execute_result"
    }
   ],
   "source": [
    "x = '6'\n",
    "x * 3"
   ]
  },
  {
   "cell_type": "markdown",
   "id": "5c03d92c",
   "metadata": {},
   "source": [
    "If it was intended to multiply the number 6, then the variable `x` should have been defined as `x=6` so that `x` has a value of type `integer`. However, in the above code `6` is a `string` type value. When a `string` is multiplied by an integer, say *n*, it concatenates with itself *n* times."
   ]
  },
  {
   "cell_type": "markdown",
   "id": "98452b47",
   "metadata": {},
   "source": [
    "### Practice exercise 6"
   ]
  },
  {
   "cell_type": "markdown",
   "id": "90ecb14d",
   "metadata": {},
   "source": [
    "Suppose we wish to compute tax using the income and the tax rate. Identify the type of error from amongst syntax error, semantic error and run-time error in the following pieces of code."
   ]
  },
  {
   "cell_type": "code",
   "execution_count": null,
   "id": "bb87a313",
   "metadata": {},
   "outputs": [],
   "source": [
    "income = 2000\n",
    "tax = .08 * Income\n",
    "print(\"tax on\", income, \"is:\", tax)"
   ]
  },
  {
   "cell_type": "code",
   "execution_count": null,
   "id": "54415517",
   "metadata": {},
   "outputs": [],
   "source": [
    "income = 2000\n",
    "tax = .08 x income\n",
    "print(\"tax on\", income, \"is:\", tax)"
   ]
  },
  {
   "cell_type": "code",
   "execution_count": null,
   "id": "2231ae8f",
   "metadata": {},
   "outputs": [],
   "source": [
    "income = 2000\n",
    "tax = .08 ** income\n",
    "print(\"tax on\", income, \"is:\", tax)"
   ]
  },
  {
   "cell_type": "markdown",
   "id": "d258d7a9",
   "metadata": {},
   "source": [
    "## Practice exercise 7"
   ]
  },
  {
   "cell_type": "markdown",
   "id": "85abe85b",
   "metadata": {},
   "source": [
    "The formula for computing final amount if one is earning compund interest is given by:\n",
    "$$A = P\\bigg(1+\\frac{r}{n}\\bigg)^{nt},$$\n",
    "\n",
    "where: \\\n",
    "P = Principal amount (initial investment), \\\n",
    "r = annual nominal interest rate, \\\n",
    "n = number of times the interest is computed per year, \\\n",
    "t = number of years\n",
    "\n",
    "Write a Python program that assigns the principal amount of \\$10000 to variable *P*, assign to *n* the value 12, and assign to *r* the interest rate of 8\\%. Then have the program prompt the user for the number of years *t* that the money will be compounded for. Calculate and print the final amount after *t* years.\n",
    "\n",
    "What is the amount if the user enters *t* as 4 years?"
   ]
  }
 ],
 "metadata": {
  "kernelspec": {
   "display_name": "Python 3",
   "language": "python",
   "name": "python3"
  },
  "language_info": {
   "codemirror_mode": {
    "name": "ipython",
    "version": 3
   },
   "file_extension": ".py",
   "mimetype": "text/x-python",
   "name": "python",
   "nbconvert_exporter": "python",
   "pygments_lexer": "ipython3",
   "version": "3.8.8"
  }
 },
 "nbformat": 4,
 "nbformat_minor": 5
}
