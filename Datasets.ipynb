{
 "cells": [
  {
   "cell_type": "raw",
   "id": "5a169952",
   "metadata": {},
   "source": [
    "---\n",
    "title: \"Assignment templates and Datasets\"\n",
    "format: \n",
    "  html:\n",
    "    code-fold: false\n",
    "jupyter: python3\n",
    "---"
   ]
  },
  {
   "cell_type": "markdown",
   "id": "ecf28294",
   "metadata": {},
   "source": [
    "Assignment templates and datasets used in the class notes can be found [here](https://nuwildcat-my.sharepoint.com/:f:/g/personal/akl0407_ads_northwestern_edu/EpHyhd9hhjVEkFoFXnCHLngBWM_0y6SYR7j9bp0KBGA7WQ?e=kcNZF3)"
   ]
  }
 ],
 "metadata": {
  "kernelspec": {
   "display_name": "Python 3 (ipykernel)",
   "language": "python",
   "name": "python3"
  },
  "language_info": {
   "codemirror_mode": {
    "name": "ipython",
    "version": 3
   },
   "file_extension": ".py",
   "mimetype": "text/x-python",
   "name": "python",
   "nbconvert_exporter": "python",
   "pygments_lexer": "ipython3",
   "version": "3.8.17"
  }
 },
 "nbformat": 4,
 "nbformat_minor": 5
}
