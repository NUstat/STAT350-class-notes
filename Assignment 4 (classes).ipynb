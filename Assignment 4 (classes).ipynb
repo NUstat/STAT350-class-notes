{
 "cells": [
  {
   "cell_type": "raw",
   "id": "33dd6c4c",
   "metadata": {},
   "source": [
    "---\n",
    "title: \"Assignment 4 (Classes and Objects)\"\n",
    "format: \n",
    "  html:\n",
    "    toc: true\n",
    "    toc-title: Contents\n",
    "    code-fold: show\n",
    "    self-contained: true\n",
    "jupyter: python3\n",
    "---"
   ]
  },
  {
   "cell_type": "markdown",
   "id": "0116f49b",
   "metadata": {},
   "source": [
    "## Instructions {-}\n",
    "\n",
    "1. You may talk to a friend, discuss the questions and potential directions for solving them. However, you need to write your own solutions and code separately, and not as a group activity. \n",
    "\n",
    "2. Do not write your name on the assignment.\n",
    "\n",
    "3. Write your code in the *Code* cells and your answer in the *Markdown* cells of the Jupyter notebook. Ensure that the solution is written neatly enough to understand and grade.\n",
    "\n",
    "4. Use [Quarto](https://quarto.org/docs/output-formats/html-basics.html) to print the *.ipynb* file as HTML. You will need to open the command prompt, navigate to the directory containing the file, and use the command: `quarto render filename.ipynb --to html`. Submit the HTML file.\n",
    "\n",
    "5. There are 6 points for clealiness and organization. The code should be commented and clearly written with intuitive variable names. For example, use variable names such as number_input, factor, hours, instead of a,b,xyz, etc.\n",
    "\n",
    "6. The assignment is worth 100 points, and is due on **5th November 2022 at 11:59 pm**. \n",
    "\n",
    "7. There is a Bonus question worth 25 points. You can score 125 out of 100 in the assignment if all is correct. However, there is no partial credit for the bonus question."
   ]
  },
  {
   "cell_type": "markdown",
   "id": "03aa367d",
   "metadata": {},
   "source": [
    "## Password Manager "
   ]
  },
  {
   "cell_type": "markdown",
   "id": "f732265f",
   "metadata": {},
   "source": [
    "Define a class named `PasswordManagerUpdated` that inherits the class `PasswordManager` defined in [Practice exercise 1](https://nustat.github.io/Intro_to_programming_for_data_sci/classes.html#practice-exercise-1). The class `PasswordManagerUpdated` should have two methods, other than the constructor:\n",
    "\n",
    "The method `set_password(new_password)` that sets a new password. The new password must only be accepted if it does not have any punctuations in it, and if it is not the same as one of the old passwords. If the new password is not acceptable, then one of the appropriate messages should be printed - (a) Cannot have punctuation in password, try again, or (b) Old password cannot be reused, try again. The new password is a parameter to this method.\n",
    "\n",
    "The method `suggest_password()` that randomly sets and returns a password as a string comprising of 15 randomly chosen letters of the English language. Letters may be repeated as well."
   ]
  },
  {
   "cell_type": "code",
   "execution_count": 963,
   "id": "1f8b06a7",
   "metadata": {},
   "outputs": [],
   "source": [
    "past_passwords = ['titanic1911','ibiza1972','montecarlo799']"
   ]
  },
  {
   "cell_type": "markdown",
   "id": "303461e5",
   "metadata": {},
   "source": [
    "**Hint:**\n",
    "\n",
    "1. For generating letters, use [str.lowercase()](https://docs.python.org/3/library/string.html)\n",
    "\n",
    "2. For randomly selecting letters, use [random.randint()](https://docs.python.org/3/library/random.html)\n",
    "\n",
    "3. For iterating through punctuations, use `from string import punctuation`."
   ]
  },
  {
   "cell_type": "markdown",
   "id": "b0091d2e",
   "metadata": {},
   "source": [
    "After defining the class, instantiate an object of this class with `past_passwords`. Then:\n",
    "\n",
    "### \n",
    "Check the attribute `old_passwords`.\n",
    "\n",
    "*(2 points)*"
   ]
  },
  {
   "cell_type": "markdown",
   "id": "aa742884",
   "metadata": {},
   "source": [
    "### \n",
    "Check the method `get_password()`\n",
    "\n",
    "*(2 points)*"
   ]
  },
  {
   "cell_type": "markdown",
   "id": "542c4b46",
   "metadata": {},
   "source": [
    "### \n",
    "Try re-setting the password to 'ibiza1972', and then check the current password.\n",
    "\n",
    "*(4 points)*"
   ]
  },
  {
   "cell_type": "markdown",
   "id": "019e8c46",
   "metadata": {},
   "source": [
    "### \n",
    "Try re-setting the password to 'oktoberfest%2022', and then check the current password.\n",
    "\n",
    "*(6 points)*"
   ]
  },
  {
   "cell_type": "markdown",
   "id": "ce486c32",
   "metadata": {},
   "source": [
    "### \n",
    "Try re-setting the password to 'oktoberfest2022', and then check the current password.\n",
    "\n",
    "*(2 points)*"
   ]
  },
  {
   "cell_type": "markdown",
   "id": "7077b245",
   "metadata": {},
   "source": [
    "### \n",
    "Use the method `suggest_password()` to set a new password.\n",
    "\n",
    "*(6 points)*"
   ]
  },
  {
   "cell_type": "markdown",
   "id": "aeb291e0",
   "metadata": {},
   "source": [
    "### \n",
    "Check the `is_correct()` method by entering the correct password as set in the previous question.\n",
    "\n",
    "\n",
    "*(2 points)*"
   ]
  },
  {
   "cell_type": "markdown",
   "id": "2e27b774",
   "metadata": {},
   "source": [
    "## SMS store manager\n",
    "Create a new class, named as *SMS_store_manager*. This class will be used to store and manage SMSs of a person's cellphone. An object of this class, say *my_inbox*, will be initialized with a list of existing messages. The class attribute `messages` will store the existing messages during instantiation:"
   ]
  },
  {
   "cell_type": "code",
   "execution_count": null,
   "id": "8405368b",
   "metadata": {},
   "outputs": [],
   "source": [
    "my_inbox(existing_messages)"
   ]
  },
  {
   "cell_type": "markdown",
   "id": "4decc9b7",
   "metadata": {},
   "source": [
    "Each message in the list will be represented as a dictionary. A sample message is shown below:"
   ]
  },
  {
   "cell_type": "code",
   "execution_count": null,
   "id": "ec4c5583",
   "metadata": {},
   "outputs": [],
   "source": [
    "{'has_been_viewed':True, 'from_number':9348593356, time_arrived='19:50', 'date':'2022-10-27','text_of_SMS':'Hi, how about lunch at 11?'}"
   ]
  },
  {
   "cell_type": "markdown",
   "id": "97ff66ec",
   "metadata": {},
   "source": [
    "The class should provide these methods:"
   ]
  },
  {
   "cell_type": "code",
   "execution_count": null,
   "id": "0c6b5018",
   "metadata": {},
   "outputs": [],
   "source": [
    "my_inbox.add_new_arrival(from_number, time_arrived, text_of_SMS)\n",
    "#Makes new SMS dictionary, inserts it after other messages\n",
    "#in the store, i.e, in the list of messages. When creating this message, its\n",
    "#'has_been_viewed' status is set False.\n",
    "\n",
    "my_inbox.message_count()\n",
    "#Returns the number of sms messages in my_inbox\n",
    "\n",
    "my_inbox.get_unread_messages()\n",
    "#Returns unread messages, i.e., messages with 'has_been_viewed' status as False\n",
    "#Also changes the status of 'has_been_viewed' to True for all messages returned\n",
    "#While returning unread messages, the 'has_been_viewed' status must not be returned\n",
    "\n",
    "my_inbox.delete(i)     # Delete the message at index i\n",
    "my_inbox.clear()       # Delete all messages from inbox"
   ]
  },
  {
   "cell_type": "markdown",
   "id": "54c90483",
   "metadata": {},
   "source": [
    "Once you define the class, instantiate an object of this class, and call it *harry_messages*. Initialize the object with the existing messages below."
   ]
  },
  {
   "cell_type": "code",
   "execution_count": 912,
   "id": "dc187354",
   "metadata": {},
   "outputs": [],
   "source": [
    "existing_messages = [{'has_been_viewed':False, 'from_number':8769038451, 'time':'09:30','date':'2022-10-27','text_of_SMS':'Hi, how about lunch at 11?'},\n",
    "                        {'has_been_viewed':False, 'from_number':9579038373, 'time':'19:30','date':'2022-10-20', 'text_of_SMS':'Your order has arrived'},\n",
    "                        {'has_been_viewed':True, 'from_number':8639568726, 'time':'10:30','date':'2022-09-30','text_of_SMS':'Card not present on American Express acc ending 54345 Sep 30 Amount $45.43 Merch: TOMATEFRESHKITCHEN.COM if unrecognized call # on Card'},\n",
    "                        {'has_been_viewed':False, 'from_number':4567653456, 'time':'11:50','date':'2022-09-15','text_of_SMS':'Hi Brooke, we are confirming your Covid vaccine appointment on Thursday at 1900 hours'},\n",
    "                        {'has_been_viewed':False, 'from_number':5646786643, 'time':'18:50','date':'2022-09-11','text_of_SMS':'Where is the party bro?'},\n",
    "                        {'has_been_viewed':False, 'from_number':9845543492, 'time':'17:10','date':'2022-09-10','text_of_SMS':'Free trial of ScanApp for 7 days for clear scanned documents, cancel anytime, $10.99 per month after 7 days'},\n",
    "                        {'has_been_viewed':True, 'from_number':8793450987, 'time':'13:20','date':'2022-08-31','text_of_SMS':'Hey Brooke, I have sent you my resume for feedback'},\n",
    "                        {'has_been_viewed':True, 'from_number':874556445, 'time':'07:20','date':'2022-08-19','text_of_SMS':'Which route are we taking for the run today?'},\n",
    "                        {'has_been_viewed':True, 'from_number':998456435, 'time':'07:20','date':'2022-07-31','text_of_SMS':'Reservation confirmed at the New York Plaza hotel for 2022-08-09 to 2022-09-14.'},\n",
    "                        {'has_been_viewed':True, 'from_number':8769038451, 'time':'07:20','date':'2022-07-25','text_of_SMS':'Lets catchup sometime, it has been so long!'},\n",
    "                        {'has_been_viewed':True, 'from_number':7739984533, 'time':'07:20','date':'2022-07-24','text_of_SMS':'Do you want to be rich today? Do you want to be your own boss? Check out beyourownboss.com. Register today for just $5!!!'},\n",
    "                        {'has_been_viewed':True, 'from_number':3443498738, 'time':'07:20','date':'2022-07-22','text_of_SMS':'Want to lose weight? Get Dr. Oz magic pills @ozpills.com. Satisfaction guaranteed.'}]"
   ]
  },
  {
   "cell_type": "markdown",
   "id": "267eb2c6",
   "metadata": {},
   "source": [
    "Use the object *harry_messages* to:\n",
    "\n",
    "### \n",
    "Add a new message below:"
   ]
  },
  {
   "cell_type": "code",
   "execution_count": 913,
   "id": "7b731ff0",
   "metadata": {},
   "outputs": [],
   "source": [
    "from_number=8749373884;\n",
    "time='07:25';\n",
    "date='2022-10-29'\n",
    "text_of_SMS='Hey, I want my bike back.'"
   ]
  },
  {
   "cell_type": "markdown",
   "id": "23acaaff",
   "metadata": {},
   "source": [
    "*(4 points)*"
   ]
  },
  {
   "cell_type": "markdown",
   "id": "4df7c48e",
   "metadata": {},
   "source": [
    "### \n",
    "Count the number of messages.\n",
    "\n",
    "*(2 points)*"
   ]
  },
  {
   "cell_type": "markdown",
   "id": "bc51bedf",
   "metadata": {},
   "source": [
    "### \n",
    "Print all the unread messages.\n",
    "\n",
    "*(6 points)*"
   ]
  },
  {
   "cell_type": "markdown",
   "id": "cc420543",
   "metadata": {},
   "source": [
    "### \n",
    "Try printing all the unread messages again *(Nothing should show up as all messages were read in in the previous question)*.\n",
    "\n",
    "*(4 points)*"
   ]
  },
  {
   "cell_type": "markdown",
   "id": "122ffdc6",
   "metadata": {},
   "source": [
    "### \n",
    "Clear the inbox, and then count the number of messages.\n",
    "\n",
    "*(4 points)*"
   ]
  },
  {
   "cell_type": "markdown",
   "id": "7f11f52e",
   "metadata": {},
   "source": [
    "## Personalized SMS store manager"
   ]
  },
  {
   "cell_type": "markdown",
   "id": "1af6cf7f",
   "metadata": {},
   "source": [
    "Inherit the class developed in the previous question to create a new class *SMS_personalized_store_manager*. This class will inherit all the methods of the class *SMS_store_manager*. However, it will have the following differences as compared to the parent class:\n",
    "\n",
    "\n",
    "1. Instantiation\n",
    "\n",
    "    a. During instantiation, it will initialize two additional attributes - `spam_words`, and `update_words`, along with the `messages` attribute which stores existing messages. Use the lists below to initialize the attributes of the class. \n",
    "    \n",
    "    b. Each message will be tagged as `spam`, `update`, or `personal` as follows. If the message contains any word / phrase in the list `spam_words`, then it will be tagged as `spam`. If the messege is not tagged as spam, and it contains any word / phrase in the list `update_words`, then it will be tagged as `update`. If the message has not been tagged as `spam` or `update`, then it will be tagged as `personal`. The tag will appear as an additional key-value pair in the dictionary of each message, where the key will be `tag`, and the value will be `'spam'`, `'update'` or `'personal'`. "
   ]
  },
  {
   "cell_type": "markdown",
   "id": "b903cbb0",
   "metadata": {},
   "source": [
    "A message after tagging may look like:"
   ]
  },
  {
   "cell_type": "code",
   "execution_count": null,
   "id": "ae52fa68",
   "metadata": {},
   "outputs": [],
   "source": [
    "{'has_been_viewed':True, 'from_number':9348593356, time_arrived='19:50', 'date':'2022-10-27','text_of_SMS':'Hi, how about lunch at 11?', 'tag':'personal'}"
   ]
  },
  {
   "cell_type": "code",
   "execution_count": 924,
   "id": "a217a8c4",
   "metadata": {},
   "outputs": [],
   "source": [
    "#Lists for initializing the attributes of the class\n",
    "existing_messages = [{'has_been_viewed':False, 'from_number':8769038451, 'time':'09:30','date':'2022-10-27','text_of_SMS':'Hi, how about lunch at 11?'},\n",
    "                        {'has_been_viewed':False, 'from_number':9579038373, 'time':'19:30','date':'2022-10-20', 'text_of_SMS':'Your order has arrived'},\n",
    "                        {'has_been_viewed':True, 'from_number':8639568726, 'time':'10:30','date':'2022-09-30','text_of_SMS':'Card not present on American Express acc ending 54345 Sep 30 Amount $45.43 Merch: TOMATEFRESHKITCHEN.COM if unrecognized call # on Card'},\n",
    "                        {'has_been_viewed':False, 'from_number':4567653456, 'time':'11:50','date':'2022-09-15','text_of_SMS':'Hi Brooke, we are confirming your Covid vaccine appointment on Thursday at 1900 hours'},\n",
    "                        {'has_been_viewed':False, 'from_number':5646786643, 'time':'18:50','date':'2022-09-11','text_of_SMS':'Where is the party bro?'},\n",
    "                        {'has_been_viewed':False, 'from_number':9845543492, 'time':'17:10','date':'2022-09-10','text_of_SMS':'Free trial of ScanApp for 7 days for clear scanned documents, cancel anytime, $10.99 per month after 7 days'},\n",
    "                        {'has_been_viewed':True, 'from_number':8793450987, 'time':'13:20','date':'2022-08-31','text_of_SMS':'Hey Brooke, I have sent you my resume for feedback'},\n",
    "                        {'has_been_viewed':True, 'from_number':874556445, 'time':'07:20','date':'2022-08-19','text_of_SMS':'Which route are we taking for the run today?'},\n",
    "                        {'has_been_viewed':True, 'from_number':998456435, 'time':'07:20','date':'2022-07-31','text_of_SMS':'Reservation confirmed at the New York Plaza hotel for 2022-08-09 to 2022-09-14.'},\n",
    "                        {'has_been_viewed':True, 'from_number':8769038451, 'time':'07:20','date':'2022-07-25','text_of_SMS':'Lets catchup sometime, it has been so long!'},\n",
    "                        {'has_been_viewed':True, 'from_number':7739984533, 'time':'07:20','date':'2022-07-24','text_of_SMS':'Do you want to be rich today? Do you want to be your own boss? Check out beyourownboss.com. Register today for just $5, or book an appointment at 985-998-3452!!!'},\n",
    "                        {'has_been_viewed':True, 'from_number':3443498738, 'time':'07:20','date':'2022-07-22','text_of_SMS':'Want to lose weight? Get Dr. Oz magic pills @ozpills.com. Satisfaction guaranteed.'}]\n",
    "spam_words=['100% more', '100% free', '100% satisfied', 'Additional income', 'Be your own boss', 'Best price', 'Big bucks', 'Billion', 'Cash bonus', 'Cents on the dollar', 'Consolidate debt', 'Double your cash', 'Double your income', 'Earn extra cash', 'Earn money', 'Eliminate bad credit', 'Extra cash', 'Extra income', 'Expect to earn', 'Fast cash', 'Financial freedom', 'Free access', 'Free consultation', 'Free gift', 'Free hosting', 'Free info', 'Free investment', 'Free membership', 'Free money', 'Free preview', 'Free quote', 'Free trial', 'Full refund', 'Get out of debt', 'Get paid', 'Giveaway', 'Guaranteed', 'Increase sales', 'Increase traffic', 'Incredible deal', 'Lower rates', 'Lowest price', 'Make money', 'Million dollars', 'Miracle', 'Money back', 'Once in a lifetime', 'One time', 'Pennies a day', 'Potential earnings', 'Prize', 'Promise', 'Pure profit', 'Risk-free', 'Satisfaction guaranteed', 'Save big money', 'Save up to', 'Special promotion']\n",
    "update_words = ['Your order', 'appointment', 'Reservation confirmed', 'Card Not Present', 'Payment confirmation', 'Your payment']"
   ]
  },
  {
   "cell_type": "markdown",
   "id": "aea55501",
   "metadata": {},
   "source": [
    "2. The class will have two additional methods:\n",
    "\n",
    "    a. `get_unread_messages_by_category()`: This method will return all the **unread** messages of a particular category, i.e, `'spam'`, `'update'` or `'personal'`. The method will accept the category as an argument. If no argument is specified by the user for the category, then all the **unread** messages must be displayed. Once unread messages are returned, they will be marked as read. While returning unread messages, the `has_been_viewed` status must be changed to `True`, but the status itself must not be returned.\n",
    "    \n",
    "    b. `get_messages_by_category()`: This method will return all the messages (both read or unread) of a particular category, i.e, `'spam'`, `'update'` or `'personal'`. The method will accept the category as an argument. If no argument is specified by the user for the category, then all the messages must be returned.\n",
    "    \n",
    "    \n",
    "3. The class will modify the method `add_new_arrival(self,from_number, time, date, text_of_SMS)` of the parent class to tag a new message as `'spam'`, `'update'` or `'personal'`."
   ]
  },
  {
   "cell_type": "markdown",
   "id": "34151bb3",
   "metadata": {},
   "source": [
    "Once you define the class, instantiate an object of this class with the lists `existing_messages`, `spam_words` and `update_words`, and call it *ron_messages*:\n",
    "\n",
    "### \n",
    "Add a new message below:"
   ]
  },
  {
   "cell_type": "code",
   "execution_count": 926,
   "id": "ec0cdd7c",
   "metadata": {},
   "outputs": [],
   "source": [
    "from_number=8749373884;\n",
    "time='07:25';\n",
    "date='2022-10-29'\n",
    "text_of_SMS='Hey, I want my bike back.'"
   ]
  },
  {
   "cell_type": "markdown",
   "id": "8d6a1a46",
   "metadata": {},
   "source": [
    "*(6 points)*"
   ]
  },
  {
   "cell_type": "markdown",
   "id": "966b60ff",
   "metadata": {},
   "source": [
    "### \n",
    "Print all the unread messages tagged as `'personal'`. Use the method `get_unread_messages_by_category()`.\n",
    "\n",
    "*(10 points)*"
   ]
  },
  {
   "cell_type": "markdown",
   "id": "7faeaf95",
   "metadata": {},
   "source": [
    "### \n",
    "Print all the unread messages tagged as `'update'`. Use the method `get_unread_messages_by_category()`.\n",
    "\n",
    "*(10 points)*"
   ]
  },
  {
   "cell_type": "markdown",
   "id": "24de66bf",
   "metadata": {},
   "source": [
    "### \n",
    "Print all the unread messages. Use the method `get_unread_messages()`.\n",
    "\n",
    "*(10 points)*"
   ]
  },
  {
   "cell_type": "markdown",
   "id": "583f4914",
   "metadata": {},
   "source": [
    "### \n",
    "Print all the messages tagged as `'spam'`. Use the method `get_messages_by_category()`.\n",
    "\n",
    "*(7 points)*"
   ]
  },
  {
   "cell_type": "markdown",
   "id": "db9d4f27",
   "metadata": {},
   "source": [
    "### \n",
    "Print all the messages tagged as `'update'`. Use the method `get_messages_by_category()`."
   ]
  },
  {
   "cell_type": "markdown",
   "id": "a8f9c0cf",
   "metadata": {},
   "source": [
    "*(7 points)*"
   ]
  },
  {
   "cell_type": "markdown",
   "id": "65978984",
   "metadata": {},
   "source": [
    "## Bonus question: Creating a new datatype - list of dictionaries"
   ]
  },
  {
   "cell_type": "markdown",
   "id": "9b2adf18",
   "metadata": {},
   "source": [
    "Read *movie_data* with the code below."
   ]
  },
  {
   "cell_type": "code",
   "execution_count": 934,
   "id": "647e5c8f",
   "metadata": {},
   "outputs": [],
   "source": [
    "import json\n",
    "with open(\"movies.json\", encoding=\"utf8\") as file:\n",
    "    movie_data=json.load(file)"
   ]
  },
  {
   "cell_type": "markdown",
   "id": "54b91468",
   "metadata": {},
   "source": [
    "Inherit the in-built python class `list()` to create a new class `list_dict()`. This class will be used for objects that are a list of dictionaries, where all the dictionaries in the list have the same keys. Add a method in this class, named as `sort_by_dict_value()` that sorts the dictionaries of the list based on the values of the desired key in the dictionaries. Sorting can be done in ascending or descending order depending on the user. The key to be used for sorting and the order (ascending / descending) will be parameters to the method `sort_by_dict_value()`. If the sorting order is unspecified, use ascending as default.\n",
    "\n",
    "Instantiate an object of the class `list_dict()` with `movie_data`.\n",
    "\n",
    "If the name of the object is `mov`, then the method `sort_by_dict_value()` may be called as:\n",
    "mov.sort_by_dict_value(movie_parameter, ascending = True)\n",
    "\n",
    "where `movie_parameter` can be any key of the dictionaries, using the values of which the list of dictionaries has to be sorted."
   ]
  },
  {
   "cell_type": "markdown",
   "id": "17437edc",
   "metadata": {},
   "source": [
    "### \n",
    "Use the method `sort_by_dict_value()` to sort the list of dictionaries in increasing order of `Production Budget`. What is the name of the 45th movie in the sorted list of dictionaries?"
   ]
  },
  {
   "cell_type": "markdown",
   "id": "fd8c70ff",
   "metadata": {},
   "source": [
    "### \n",
    "Use the method `sort_by_dict_value()` to sort the list of dictionaries in decreasing order of `Worldwide Gross`. What is the name of the 2nd movie in the sorted list of dictionaries?\n",
    "\n",
    "*(25 points - No partial credit)*"
   ]
  }
 ],
 "metadata": {
  "kernelspec": {
   "display_name": "Python 3",
   "language": "python",
   "name": "python3"
  },
  "language_info": {
   "codemirror_mode": {
    "name": "ipython",
    "version": 3
   },
   "file_extension": ".py",
   "mimetype": "text/x-python",
   "name": "python",
   "nbconvert_exporter": "python",
   "pygments_lexer": "ipython3",
   "version": "3.8.8"
  }
 },
 "nbformat": 4,
 "nbformat_minor": 5
}
