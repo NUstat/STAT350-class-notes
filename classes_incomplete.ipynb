{
 "cells": [
  {
   "cell_type": "raw",
   "id": "1e00c4da-1ec9-4402-a28b-6ad4b241b3a8",
   "metadata": {},
   "source": [
    "---\n",
    "title: \"Object-Oriented Programming \"\n",
    "format: \n",
    "  html:\n",
    "    toc-depth: 4\n",
    "    code-fold: false\n",
    "jupyter: python3\n",
    "---"
   ]
  },
  {
   "cell_type": "markdown",
   "id": "cb0ab307",
   "metadata": {},
   "source": [
    "In Python, everything is an object, which makes it an object-oriented programming language."
   ]
  },
  {
   "cell_type": "markdown",
   "id": "8776c2d1-722b-4e14-8b78-4b3f50f45bd4",
   "metadata": {},
   "source": [
    "Object-oriented programming is the one in which a program is based on *objects*. An object is an independent entity within the program and can cooperatively work with other objects. A program can be made up of one or more objects, which can leverage the functionality and information contained in other objects."
   ]
  },
  {
   "cell_type": "markdown",
   "id": "132578ef",
   "metadata": {},
   "source": [
    "## Object"
   ]
  },
  {
   "cell_type": "markdown",
   "id": "86e16edc",
   "metadata": {},
   "source": [
    "An object consists of two items:\n",
    "\n",
    "1. **Attributes** - Attributes are the data stored within the object.\n",
    "\n",
    "2. **Methods** - Methods are the functions defined within the object. Methods can use the object attributes *(or data stored within the object)* as well as accept additional data as arguments."
   ]
  },
  {
   "cell_type": "markdown",
   "id": "79a536cd",
   "metadata": {},
   "source": [
    "We have already seen several in-built python objects such as string objects, integer objects, float objects, list objects, tuple objects and dictionary objects, in previous chapters. Each of these objects have attributes and methods associated with them."
   ]
  },
  {
   "cell_type": "markdown",
   "id": "c59cc2d5",
   "metadata": {},
   "source": [
    "For example, consider a *integer* object named as `integer_example`."
   ]
  },
  {
   "cell_type": "code",
   "execution_count": 28,
   "id": "1f7c11e1",
   "metadata": {},
   "outputs": [],
   "source": [
    "integer_example = 5"
   ]
  },
  {
   "cell_type": "markdown",
   "id": "d0e67247",
   "metadata": {},
   "source": [
    "The attributes and methods of this *integer* object can be seen by putting a `.` next to its name, and pressing the *tab* key. A dropdown menu consisting of the attributes and methods will appear as shown below."
   ]
  },
  {
   "cell_type": "code",
   "execution_count": 102,
   "id": "41e38203",
   "metadata": {},
   "outputs": [
    {
     "data": {
      "text/html": [
       "<img src=\"./Datasets/attributes.jpg\" width=\"250\" height=\"200\"/>"
      ],
      "text/plain": [
       "<IPython.core.display.Image object>"
      ]
     },
     "execution_count": 102,
     "metadata": {},
     "output_type": "execute_result"
    }
   ],
   "source": [
    "#| echo: false\n",
    "\n",
    "# import image module\n",
    "from IPython.display import Image\n",
    "\n",
    "# get the image\n",
    "Image(url=\"./Datasets/attributes.jpg\", width=250, height=200)"
   ]
  },
  {
   "cell_type": "markdown",
   "id": "f873235f",
   "metadata": {},
   "source": [
    "A list of all attributes and methods associated with an object can be obtained with the `dir()` function. Ignore the ones with underscores - these are used by Python itself. The rest of them can be used to perform operations."
   ]
  },
  {
   "cell_type": "code",
   "execution_count": null,
   "id": "bb1445b8",
   "metadata": {},
   "outputs": [],
   "source": [
    "#| eval: false\n",
    "\n",
    "#This code is not executed to avoid printing a long list\n",
    "dir(integer_example)"
   ]
  },
  {
   "cell_type": "markdown",
   "id": "c5118ebb",
   "metadata": {},
   "source": [
    "For example, an attribute of `integer_example` is real, which contains the real part of the number:"
   ]
  },
  {
   "cell_type": "code",
   "execution_count": 33,
   "id": "d5ccc3e3",
   "metadata": {},
   "outputs": [
    {
     "data": {
      "text/plain": [
       "5"
      ]
     },
     "execution_count": 33,
     "metadata": {},
     "output_type": "execute_result"
    }
   ],
   "source": [
    "integer_example.real"
   ]
  },
  {
   "cell_type": "markdown",
   "id": "f1e625bf",
   "metadata": {},
   "source": [
    "A example of a method of `integer_example` is `as_integer_ratio()`, which returns a tuple containing the numerator and denominator of the integer when it is expressed as a fraction."
   ]
  },
  {
   "cell_type": "code",
   "execution_count": 39,
   "id": "b2377bd1",
   "metadata": {},
   "outputs": [
    {
     "data": {
      "text/plain": [
       "(5, 1)"
      ]
     },
     "execution_count": 39,
     "metadata": {},
     "output_type": "execute_result"
    }
   ],
   "source": [
    "integer_example.as_integer_ratio()"
   ]
  },
  {
   "cell_type": "markdown",
   "id": "42682626",
   "metadata": {},
   "source": [
    "Note that attributes do not have any parenthesis after them as they are just data, and cannot accept arguments. On the other hand methods have parenthesis after them as they are functions that may or may not have arguments."
   ]
  },
  {
   "cell_type": "markdown",
   "id": "72a1cb6e",
   "metadata": {},
   "source": [
    "## Class"
   ]
  },
  {
   "cell_type": "markdown",
   "id": "ce45f0ec",
   "metadata": {},
   "source": [
    "A *class* is a template for objects. It contains the attributes and methods associated with the object of the class. As an analaogy, the *class* Cat will consist of characterisitcs (or *attributes*) shared by all cats such as breed, fur color, etc., as well as capability to perform functions (or *methods*) such as run, meow, etc."
   ]
  },
  {
   "cell_type": "markdown",
   "id": "4569e239",
   "metadata": {},
   "source": [
    "**Instance:** An *instance* is a specific realization of the object of a particular class. Continuing with the Cat analaogy of a class, a particular cat is an *instance* of the class Cat. Similarly, in the example above, the object `integer_example` is an instance of the class *integer*. The words *object* and *instance* are often used interchangeably. \n",
    "\n",
    "Creating an *instance* of a class is called **Instantiation**."
   ]
  },
  {
   "cell_type": "markdown",
   "id": "81cb3064",
   "metadata": {},
   "source": [
    "### Creating your own class"
   ]
  },
  {
   "cell_type": "markdown",
   "id": "6d101edd",
   "metadata": {},
   "source": [
    "Until now we saw examples of in-built Python classes, such as *integer, List*, etc. Now, we'll learn to create our own class that serves our purpose."
   ]
  },
  {
   "cell_type": "markdown",
   "id": "f5461c70",
   "metadata": {},
   "source": [
    "Below is a toy example of a class."
   ]
  },
  {
   "cell_type": "code",
   "execution_count": 61,
   "id": "989d90ce",
   "metadata": {},
   "outputs": [],
   "source": [
    "class ToyClass:\n",
    "    def __init__(self, x, y):\n",
    "        self.x = x\n",
    "        self.y = y\n",
    "    \n",
    "    def add(self):\n",
    "        return self.x + self.y\n",
    "    \n",
    "    def multiply(self):\n",
    "        return self.x*self.y"
   ]
  },
  {
   "cell_type": "markdown",
   "id": "ffee339b",
   "metadata": {},
   "source": [
    "We'll use the example above to explain the following terms:\n",
    "\n",
    "- **The `class` statement:** We use the `class` statement to create a class. The [Python style guide](https://peps.python.org/pep-0008/#class-names) recommends to use CamelCase for class names.\n",
    "\n",
    "\n",
    "- **The constructor (or the `__init__()` method):** A class typically has a method called `__init__`. This method is called a constructor and is automatically called when an object or instance of the class is created. The constructor initializes the attributes of the class. In the above example, the constructor accepts two values as arguments, and initializes its attributes `x` and `y` with those values.\n",
    "\n",
    "\n",
    "- **The `self` argument:** This is the first argument to every method in the class. Whenever the class refers to one of its attributes or methods, it must precede them by `self`. The purpose of `self` is to distinguish the class's attributes and methods from other variables and functions in the program."
   ]
  },
  {
   "cell_type": "markdown",
   "id": "e3d6c306",
   "metadata": {},
   "source": [
    "The class `ToyClass` consists of two attributes `x` and `y`, a constructor `__init__()`, and two methods `add()` and `multiply()`. \n",
    "\n",
    "To create an *object* or *instance* of the class `ToyClass`, we'll use the class name with the values to be passed as argument to the constructor for initializing the *object / instance*."
   ]
  },
  {
   "cell_type": "code",
   "execution_count": 62,
   "id": "ab45790e",
   "metadata": {},
   "outputs": [],
   "source": [
    "toy_instance = ToyClass(6,12)"
   ]
  },
  {
   "cell_type": "markdown",
   "id": "b8081531",
   "metadata": {},
   "source": [
    "The `x` *attribute* of the class `ToyClass` can be called using the `.` operator with the object name:"
   ]
  },
  {
   "cell_type": "code",
   "execution_count": 66,
   "id": "b2a0debe",
   "metadata": {},
   "outputs": [
    {
     "data": {
      "text/plain": [
       "6"
      ]
     },
     "execution_count": 66,
     "metadata": {},
     "output_type": "execute_result"
    }
   ],
   "source": [
    "toy_instance.x"
   ]
  },
  {
   "cell_type": "markdown",
   "id": "c00c7130",
   "metadata": {},
   "source": [
    "To use the `multiply()` *method* of the class `ToyClass`, we'll use the `.` operator with the object name:"
   ]
  },
  {
   "cell_type": "code",
   "execution_count": 67,
   "id": "7e42759d",
   "metadata": {},
   "outputs": [
    {
     "data": {
      "text/plain": [
       "72"
      ]
     },
     "execution_count": 67,
     "metadata": {},
     "output_type": "execute_result"
    }
   ],
   "source": [
    "toy_instance.multiply()"
   ]
  },
  {
   "cell_type": "markdown",
   "id": "64d799af",
   "metadata": {},
   "source": [
    "### Example: A class that analyzes a string"
   ]
  },
  {
   "cell_type": "markdown",
   "id": "a8a55b9f",
   "metadata": {},
   "source": [
    "Let us create a class that analyzes a string."
   ]
  },
  {
   "cell_type": "code",
   "execution_count": 70,
   "id": "0361ae53",
   "metadata": {},
   "outputs": [],
   "source": [
    "class AnalyzeString:\n",
    "    \n",
    "    #Constructor\n",
    "    def __init__(self, s):\n",
    "        s = s.lower()\n",
    "        self.words = s.split()\n",
    "    \n",
    "    #This method counts the numebr of words\n",
    "    def number_of_words(self):\n",
    "        return (len(self.words))\n",
    "    \n",
    "    #This method counts the number of words starting with the string s\n",
    "    def starts_with(self,s):\n",
    "        return len([x for x in self.words if x[:len(s)]==s])\n",
    "    \n",
    "    #This method counts the number of words of length n\n",
    "    def words_with_length(self,n):\n",
    "        return len([x for x in self.words if len(x)==n])\n",
    "    \n",
    "    #This method returns the frequency of the word w\n",
    "    def word_frequency(self,w):\n",
    "        return self.words.count(w)"
   ]
  },
  {
   "cell_type": "markdown",
   "id": "444680f4",
   "metadata": {},
   "source": [
    "Let us create an instance of the class `AnalyzeString()` to analyze a sentence. "
   ]
  },
  {
   "cell_type": "code",
   "execution_count": 71,
   "id": "dbd64bca",
   "metadata": {},
   "outputs": [],
   "source": [
    "#Defining a string\n",
    "sentence = 'This sentence in an example of a string that we will analyse using a class we have defined'"
   ]
  },
  {
   "cell_type": "code",
   "execution_count": 72,
   "id": "053a542c",
   "metadata": {},
   "outputs": [],
   "source": [
    "#Creating an instance of class AnalyzeString()\n",
    "sentence_analysis = AnalyzeString(sentence)"
   ]
  },
  {
   "cell_type": "code",
   "execution_count": 75,
   "id": "bbbe954e",
   "metadata": {},
   "outputs": [
    {
     "data": {
      "text/plain": [
       "['this',\n",
       " 'sentence',\n",
       " 'in',\n",
       " 'an',\n",
       " 'example',\n",
       " 'of',\n",
       " 'a',\n",
       " 'string',\n",
       " 'that',\n",
       " 'we',\n",
       " 'will',\n",
       " 'analyse',\n",
       " 'using',\n",
       " 'a',\n",
       " 'class',\n",
       " 'we',\n",
       " 'have',\n",
       " 'defined']"
      ]
     },
     "execution_count": 75,
     "metadata": {},
     "output_type": "execute_result"
    }
   ],
   "source": [
    "#The attribute 'word' contains the list of words in the sentence\n",
    "sentence_analysis.words"
   ]
  },
  {
   "cell_type": "code",
   "execution_count": 76,
   "id": "6b93f075",
   "metadata": {},
   "outputs": [
    {
     "data": {
      "text/plain": [
       "2"
      ]
     },
     "execution_count": 76,
     "metadata": {},
     "output_type": "execute_result"
    }
   ],
   "source": [
    "#The method 'word_frequncy()' provides the frequency of a word in the sentence\n",
    "sentnce_analysis.word_frequency('we')"
   ]
  },
  {
   "cell_type": "code",
   "execution_count": 78,
   "id": "ed96f276",
   "metadata": {},
   "outputs": [
    {
     "data": {
      "text/plain": [
       "2"
      ]
     },
     "execution_count": 78,
     "metadata": {},
     "output_type": "execute_result"
    }
   ],
   "source": [
    "#The method 'starts_with()' provides the frequency of number of words starting with a particular string\n",
    "sentnce_analysis.starts_with('th')"
   ]
  },
  {
   "cell_type": "markdown",
   "id": "e5eb19ba",
   "metadata": {},
   "source": [
    "### Practice exercise 1"
   ]
  },
  {
   "cell_type": "markdown",
   "id": "cb9e259e",
   "metadata": {},
   "source": [
    "Write a class called `PasswordManager`. The class should have a list called `old_passwords` that holds all of the user's past passwords. The last item of the list is the user's current password. There should be a method called `get_password` that returns the current password and a method called `set_password` that sets the user’s password. The `set_password` method should only change the password if the attempted password is different from all the user's past passwords. It should either print '*Password changed successfully!*', or '*Old password cannot be reused, try again.*' Finally, create a method called `is_correct` that receives a string and returns a boolean `True` or `False` depending on whether the string is equal to the current password or not.\n",
    "\n",
    "To initialize the object of the class, use the list below.\n",
    "\n",
    "After defining the class:\n",
    "\n",
    "1. Check the attribute `old_passwords`\n",
    "\n",
    "2. Check the method `get_password()`\n",
    "\n",
    "3. Try re-setting the password to 'ibiza1972', and then check the current password.\n",
    "\n",
    "4. Try re-setting the password to 'oktoberfest2022', and then check the current password.\n",
    "\n",
    "5. Check the `is_correct()` method"
   ]
  },
  {
   "cell_type": "code",
   "execution_count": 133,
   "id": "012eba2f",
   "metadata": {},
   "outputs": [],
   "source": [
    "past_passwords = ['titanic1911','ibiza1972','montecarlo799']"
   ]
  },
  {
   "cell_type": "code",
   "execution_count": null,
   "id": "76e85777",
   "metadata": {},
   "outputs": [],
   "source": [
    "class PasswordManager:\n",
    "    def __init__(self,past_passwords):\n",
    "        self.old_passwords = past_passwords\n",
    "        \n",
    "    def get_password(self):\n",
    "        return self.old_passwords[len(self.old_passwords)-1]\n",
    "    \n",
    "    def set_password(self,new_password):\n",
    "        if new_password not in self.old_passwords:\n",
    "            self.old_passwords.append(new_password)\n",
    "            print(\"Password changed!\")\n",
    "        else:\n",
    "            print(\"Old password cannot be reused, try again.\")\n",
    "            \n",
    "    def is_correct(self,password):\n",
    "        if password == self.old_passwords[len(self.old_passwords)-1]:\n",
    "            return True\n",
    "        return False\n",
    "\n",
    "passwd = PasswordManager(past_passwords)"
   ]
  },
  {
   "cell_type": "markdown",
   "id": "cca6f46c",
   "metadata": {},
   "source": [
    "## Inheritance"
   ]
  },
  {
   "cell_type": "markdown",
   "id": "e2b0be16",
   "metadata": {},
   "source": [
    "In object-oriented programming there is a concept called *inheritance* where we can create a new class that builds off of another class. The new class gets all of the variables and methods of the class it is inheriting from (called the base class). It can then define additional variables and methods that are not present in the base class, and it can also override some of the methods of the base class. That is, it can rewrite them to suit its own purposes. Here is a simple example:"
   ]
  },
  {
   "cell_type": "code",
   "execution_count": 38,
   "id": "037420f0",
   "metadata": {},
   "outputs": [],
   "source": [
    "class Parent:\n",
    "    \n",
    "    def __init__(self, a, b):\n",
    "        self.a = a\n",
    "        \n",
    "    def method1(self):\n",
    "        return self.a+' should study!'\n",
    "    \n",
    "    def method2(self):\n",
    "        return self.a+' does not study enough '\n",
    "\n",
    "class Child(Parent):\n",
    "    \n",
    "    def __init__(self, a,b):\n",
    "        self.a = a\n",
    "        self.b = b\n",
    "        \n",
    "    def method1(self):\n",
    "        return self.a+' should play with ' + self.b\n",
    "    \n",
    "    def method3(self):\n",
    "        return self.a + ' does not play enough'"
   ]
  },
  {
   "cell_type": "markdown",
   "id": "18d84676",
   "metadata": {},
   "source": [
    "Note that when inheriting from a class, we indicate the parent class in parentheses in the `class` statement. \n",
    "\n",
    "We see that `method1` is present in both the `Parent` and `Child` classes, while `method2` is only present in the `Parent` class. Let us understand how does the `Child` class use the methods of the Parent class, and what happens if a method with the same name is present in both the parent and child classes."
   ]
  },
  {
   "cell_type": "code",
   "execution_count": 39,
   "id": "6fdad83a",
   "metadata": {},
   "outputs": [
    {
     "name": "stdout",
     "output_type": "stream",
     "text": [
      "Parent method 1:  Sam should study!\n",
      "Parent method 2:  Sam does not study enough \n",
      "\n",
      "Child method 1:  Sam should play with Pam\n",
      "Child method 2:  Sam does not study enough \n",
      "Child method 3:  Sam does not play enough\n"
     ]
    }
   ],
   "source": [
    "p = Parent('Sam', 'John')\n",
    "c = Child('Sam','Pam')\n",
    "print('Parent method 1: ', p.method1())\n",
    "print('Parent method 2: ', p.method2())\n",
    "print()\n",
    "print('Child method 1: ', c.method1())\n",
    "print('Child method 2: ', c.method2())\n",
    "print('Child method 3: ', c.method3())\n"
   ]
  },
  {
   "cell_type": "markdown",
   "id": "d9635318",
   "metadata": {},
   "source": [
    "We see in the example above that the child has overridden the parent's `method1`. The child has inherited the parent's `method2`, so it can use it without having to define it. The child also adds some features to the parent class, namely a new variable `b` and a new method, `method3`."
   ]
  },
  {
   "cell_type": "markdown",
   "id": "5d7ac507",
   "metadata": {},
   "source": [
    "### Practice exercise 2"
   ]
  },
  {
   "cell_type": "markdown",
   "id": "92ea5bbb",
   "metadata": {},
   "source": [
    "Define a class that inherits the in-built Python class `list`, and adds a new method to the class called `nunique()` which returns the number of unique elements in the list.\n",
    "\n",
    "Define the following list as an object of the class you created. Then:\n",
    "\n",
    "1. Find the number of unique elements in the object using the method `nunique()` of the inherited class. \n",
    "\n",
    "2. Check if the `pop()` method of the parent class works to pop an element out of the object."
   ]
  },
  {
   "cell_type": "code",
   "execution_count": 1,
   "id": "d0733231",
   "metadata": {},
   "outputs": [],
   "source": [
    "list_ex = [1,2,5,3,6,5,5,5,12]"
   ]
  },
  {
   "cell_type": "markdown",
   "id": "aa098eac",
   "metadata": {},
   "source": [
    "### Practice exercise 3"
   ]
  },
  {
   "cell_type": "markdown",
   "id": "2532c959",
   "metadata": {},
   "source": [
    "Define a class named `PasswordManagerUpdated` that inherits the class `PasswordManager` defined in Practice exercise 1. The class `PasswordManagerUpdated` should have two methods, other than the *constructor*:\n",
    "\n",
    "1. The method `set_password()` that sets a new password. The new password must only be accepted if it does not have any punctuations in it, and if it is not the same as one of the old passwords. If the new password is not acceptable, then one of the appropriate messages should be printed - (a) *Cannot have punctuation in password, try again*, or (b) *Old password cannot be reused, try again*.\n",
    "\n",
    "2. The method `suggest_password()` that randomly sets and returns a password as a string comprising of 15 randomly chosen letters. Letters may be repeated as well."
   ]
  }
 ],
 "metadata": {
  "kernelspec": {
   "display_name": "Python 3",
   "language": "python",
   "name": "python3"
  },
  "language_info": {
   "codemirror_mode": {
    "name": "ipython",
    "version": 3
   },
   "file_extension": ".py",
   "mimetype": "text/x-python",
   "name": "python",
   "nbconvert_exporter": "python",
   "pygments_lexer": "ipython3",
   "version": "3.8.8"
  }
 },
 "nbformat": 4,
 "nbformat_minor": 5
}
