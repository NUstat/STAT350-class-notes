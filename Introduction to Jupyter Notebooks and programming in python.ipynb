{
 "cells": [
  {
   "cell_type": "raw",
   "id": "6407ea8e",
   "metadata": {},
   "source": [
    "---\n",
    "title: \"Introduction to Jupyter Notebooks and programming in python\"\n",
    "format: \n",
    "  html:\n",
    "    code-fold: false\n",
    "jupyter: python3\n",
    "---"
   ]
  },
  {
   "cell_type": "markdown",
   "id": "2c2ec33d",
   "metadata": {},
   "source": [
    "This chapter is a very brief introduction to python and Jupyter notebooks. We only discuss the content relevant for applying python to analyze data."
   ]
  },
  {
   "cell_type": "markdown",
   "id": "98f283a8",
   "metadata": {},
   "source": [
    "## Installation"
   ]
  },
  {
   "cell_type": "markdown",
   "id": "278536c0",
   "metadata": {},
   "source": [
    "**Anaconda:** If you are new to python, we recommend downloading the [Anaconda installer](https://docs.anaconda.com/anaconda/install/) and following the instructions for installation. Once installed, we'll use the Jupyter Notebook interface to write code.\n",
    "\n",
    "**Quarto:** We'll use Quarto to publish the **.ipynb* file containing text, python code, and the output. Download and install Quarto from [here](https://quarto.org/docs/get-started/)."
   ]
  },
  {
   "cell_type": "markdown",
   "id": "3669a619",
   "metadata": {},
   "source": [
    "## Jupyter notebook"
   ]
  },
  {
   "cell_type": "markdown",
   "id": "add89b06",
   "metadata": {},
   "source": [
    "### Introduction"
   ]
  },
  {
   "cell_type": "markdown",
   "id": "6b85a544",
   "metadata": {},
   "source": [
    "Jupyter notebook is an interactive platform, where you can write code and text, and make visualizations. You can access Jupyter notebook from the Anaconda Navigator, or directly open the Jupyter Notebook application itself. It should automatically open up in your default browser. The figure below shows a Jupyter Notebook opened with Google Chrome. This page is called the *landing page* of the notebook."
   ]
  },
  {
   "cell_type": "code",
   "execution_count": 16,
   "id": "2dd4a20a",
   "metadata": {},
   "outputs": [
    {
     "data": {
      "text/html": [
       "<img src=\"./Datasets/jupyter.jpg\" width=\"700\" height=\"400\"/>"
      ],
      "text/plain": [
       "<IPython.core.display.Image object>"
      ]
     },
     "execution_count": 16,
     "metadata": {},
     "output_type": "execute_result"
    }
   ],
   "source": [
    "#| echo: false\n",
    "\n",
    "# import image module\n",
    "from IPython.display import Image\n",
    "\n",
    "# get the image\n",
    "Image(url=\"./Datasets/jupyter.jpg\", width=700, height=400)"
   ]
  },
  {
   "cell_type": "markdown",
   "id": "830726a0",
   "metadata": {},
   "source": [
    "To create a new notebook, click on the `New` button and select the `Python 3` option. You should see a blank notebook as in the figure below."
   ]
  },
  {
   "cell_type": "code",
   "execution_count": 2,
   "id": "e7ab843d",
   "metadata": {},
   "outputs": [
    {
     "data": {
      "text/html": [
       "<img src=\"./Datasets/jupyter_newbook.jpg\" width=\"600\" height=\"150\"/>"
      ],
      "text/plain": [
       "<IPython.core.display.Image object>"
      ]
     },
     "execution_count": 2,
     "metadata": {},
     "output_type": "execute_result"
    }
   ],
   "source": [
    "#| echo: false\n",
    "\n",
    "# import image module\n",
    "from IPython.display import Image\n",
    "\n",
    "# get the image\n",
    "Image(url=\"./Datasets/jupyter_newbook.jpg\", width=600, height=150)"
   ]
  },
  {
   "cell_type": "markdown",
   "id": "afa1f40d",
   "metadata": {},
   "source": [
    "### Writing and executing code"
   ]
  },
  {
   "cell_type": "markdown",
   "id": "80ee6db6",
   "metadata": {},
   "source": [
    "**Code cell:**\n",
    "By default, a cell is of type *Code*, i.e., for typing code, as seen as the default choice in the dropdown menu below the *Widgets* tab. Try typing a line of python code (say, `2+3`) in an empty code cell and execute it by pressing *Shift+Enter*. This should execute the code, and create an new code cell. Pressing *Ctlr+Enter for Windows (or Cmd+Enter for Mac)* will execute the code without creating a new cell. "
   ]
  },
  {
   "cell_type": "markdown",
   "id": "5e90bc42",
   "metadata": {},
   "source": [
    "**Commenting code in a code cell:** Comments should be made while writing the code to explain the purpose of the code or a brief explanation of the tasks being performed by the code. A comment can be added in a code cell by preceding it with a # sign. For example, see the comment in the code below.\n",
    "\n",
    "Writing comments will help other users understand your code. It is also useful for the coder to keep track of the tasks being performed by their code. "
   ]
  },
  {
   "cell_type": "code",
   "execution_count": 51,
   "id": "37302504",
   "metadata": {},
   "outputs": [
    {
     "data": {
      "text/plain": [
       "8"
      ]
     },
     "execution_count": 51,
     "metadata": {},
     "output_type": "execute_result"
    }
   ],
   "source": [
    "#This code adds 3 and 5\n",
    "3+5"
   ]
  },
  {
   "cell_type": "markdown",
   "id": "c858e36a",
   "metadata": {},
   "source": [
    "**Markdown cell:** Although a comment can be written in a code cell, a code cell cannot be used for writing headings/sub-headings, and is not appropriate for writing lengthy chunks of text. In such cases, change the cell type to *Markdown* from the dropdown menu below the *Widgets* tab. Use any markdown cheat sheet found online, for example, [this one](https://www.markdownguide.org/cheat-sheet/) to format text in the markdown cells."
   ]
  },
  {
   "cell_type": "markdown",
   "id": "a3532afd",
   "metadata": {},
   "source": [
    "Give a name to the notebook by clicking on the text, which says 'Untitled'. "
   ]
  },
  {
   "cell_type": "markdown",
   "id": "398c16fa",
   "metadata": {},
   "source": [
    "### Saving and loading notebooks"
   ]
  },
  {
   "cell_type": "markdown",
   "id": "1eacedfb",
   "metadata": {},
   "source": [
    "Save the notebook by clicking on `File`, and selecting `Save as`, or clicking on the `Save and Checkpoint` icon (below the `File` tab). Your notebook will be saved as a file with an exptension *ipynb*. This file will contain all the code as well as the outputs, and can be loaded and edited by a Jupyter user. To load an existing Jupyter notebook, navigate to the folder of the notebook on the *landing page*, and then click on the file to open it."
   ]
  },
  {
   "cell_type": "markdown",
   "id": "6189299c",
   "metadata": {},
   "source": [
    "### Rendering notebook as HTML"
   ]
  },
  {
   "cell_type": "markdown",
   "id": "b70d13e6",
   "metadata": {},
   "source": [
    "We'll use Quarto to print the **.ipynb* file as HTML. Check the procedure for rendering a notebook as HTML [here](https://quarto.org/docs/output-formats/html-basics.html). You have several options to format the file.\n",
    "\n",
    "You will need to open the command prompt, navigate to the directory containing the file, and use the command: `quarto render filename.ipynb --to html`.\n"
   ]
  },
  {
   "cell_type": "markdown",
   "id": "9fb5fc9a",
   "metadata": {},
   "source": [
    "## In-class exercise"
   ]
  },
  {
   "cell_type": "markdown",
   "id": "29d27c44",
   "metadata": {},
   "source": [
    "\n",
    "1. Create a new notebook. \n",
    "2. Save the file as `In_class_exercise_1`. \n",
    "3. Give a heading to the file - `First HTML file`.\n",
    "4. Print `Today is day 1 of my programming course`. \n",
    "5. Compute and print the number of seconds in a day.\n",
    "\n",
    "\n",
    "The HTML file should look like the picture below."
   ]
  },
  {
   "cell_type": "code",
   "execution_count": 4,
   "id": "0b9d6b41",
   "metadata": {},
   "outputs": [
    {
     "data": {
      "text/html": [
       "<img src=\"./Datasets/snapshot.jpg\" width=\"600\"/>"
      ],
      "text/plain": [
       "<IPython.core.display.Image object>"
      ]
     },
     "execution_count": 4,
     "metadata": {},
     "output_type": "execute_result"
    }
   ],
   "source": [
    "#| echo: false\n",
    "\n",
    "# get the image\n",
    "Image(url=\"./Datasets/snapshot.jpg\", width=600)"
   ]
  },
  {
   "cell_type": "markdown",
   "id": "3641dde3",
   "metadata": {},
   "source": [
    "## Python libraries"
   ]
  },
  {
   "cell_type": "markdown",
   "id": "0f836f6d",
   "metadata": {},
   "source": [
    "There are several [built-in functions](https://docs.python.org/3/library/functions.html) in python like `print()`, `abs()`, `max()`, `sum()` etc., which do not require importing any library. However, these functions will typically be insufficient for a analyzing data. Some of the popular libraries in data science and their primary purposes are as follows:\n",
    "\n",
    "1. NumPy: Performing numerical operations and efficiently storing numerical data.\n",
    "2. Pandas: Reading, cleaning and manipulating data.\n",
    "3. Matplotlib, Seaborn: Visualizing data.\n",
    "4. SciPy: Performing scientific computing such as solving differential equations, optimization, statistical tests, etc.\n",
    "5. Scikit-learn: Data pre-processing and machine learning, with a focus on prediction.\n",
    "6. Statsmodels: Developing statistical models with a focus on inference"
   ]
  },
  {
   "cell_type": "markdown",
   "id": "db2d8c84",
   "metadata": {},
   "source": [
    "A library can be imported using the `import` keyword. For example, a NumPy library can be imported as:"
   ]
  },
  {
   "cell_type": "code",
   "execution_count": 1,
   "id": "21acaad8",
   "metadata": {},
   "outputs": [],
   "source": [
    "import numpy as np"
   ]
  },
  {
   "cell_type": "markdown",
   "id": "1b6aa87c",
   "metadata": {},
   "source": [
    "Using the `as` keyboard, the NumPy library has been given the name `np`. All the functions and attributes of the library can be called using the *'np.'* prefix. For example, let us generate a sequence of whole numbers upto `10` using the NumPy function [arange()](https://numpy.org/doc/stable/reference/generated/numpy.arange.html):"
   ]
  },
  {
   "cell_type": "code",
   "execution_count": 2,
   "id": "0ca4d435",
   "metadata": {},
   "outputs": [
    {
     "data": {
      "text/plain": [
       "array([0, 1, 2, 3, 4, 5, 6, 7])"
      ]
     },
     "execution_count": 2,
     "metadata": {},
     "output_type": "execute_result"
    }
   ],
   "source": [
    "np.arange(8)"
   ]
  },
  {
   "cell_type": "markdown",
   "id": "4db9f38a",
   "metadata": {},
   "source": [
    "Generating random numbers is very useful in python for performing simulations (we'll see in later chapters). The library [random](https://docs.python.org/3/library/random.html) is used to generate random numbers such as integers, real numbers based on different probability distributions, etc."
   ]
  },
  {
   "cell_type": "markdown",
   "id": "bb87cbc7",
   "metadata": {},
   "source": [
    "Below is an example of using the `randint()` function of the library for generating random numbers in [a, b], where `a` and `b` are integers. "
   ]
  },
  {
   "cell_type": "code",
   "execution_count": 13,
   "id": "ed1c480c",
   "metadata": {},
   "outputs": [
    {
     "data": {
      "text/plain": [
       "7"
      ]
     },
     "execution_count": 13,
     "metadata": {},
     "output_type": "execute_result"
    }
   ],
   "source": [
    "import random as rm\n",
    "rm.randint(5,10) #This will generate a random number in [5,10]"
   ]
  },
  {
   "cell_type": "markdown",
   "id": "0fc225cd",
   "metadata": {},
   "source": [
    "## Debugging and errors"
   ]
  },
  {
   "cell_type": "markdown",
   "id": "8edaa41f",
   "metadata": {},
   "source": [
    "Read sections 1.3 - 1.6 from http://openbookproject.net/thinkcs/python/english3e/way_of_the_program.html"
   ]
  },
  {
   "cell_type": "markdown",
   "id": "1477c952",
   "metadata": {},
   "source": [
    "## Terms used in programming"
   ]
  },
  {
   "cell_type": "markdown",
   "id": "e428ddb3",
   "metadata": {},
   "source": [
    "Read section 1.11 from http://openbookproject.net/thinkcs/python/english3e/way_of_the_program.html"
   ]
  }
 ],
 "metadata": {
  "kernelspec": {
   "display_name": "Python 3",
   "language": "python",
   "name": "python3"
  },
  "language_info": {
   "codemirror_mode": {
    "name": "ipython",
    "version": 3
   },
   "file_extension": ".py",
   "mimetype": "text/x-python",
   "name": "python",
   "nbconvert_exporter": "python",
   "pygments_lexer": "ipython3",
   "version": "3.8.8"
  }
 },
 "nbformat": 4,
 "nbformat_minor": 5
}
